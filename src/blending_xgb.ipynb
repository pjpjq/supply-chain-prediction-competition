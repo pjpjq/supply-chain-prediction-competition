{
 "cells": [
  {
   "cell_type": "code",
   "execution_count": 2,
   "metadata": {
    "ExecuteTime": {
     "end_time": "2018-10-21T16:35:30.505022Z",
     "start_time": "2018-10-21T16:35:27.762929Z"
    }
   },
   "outputs": [],
   "source": [
    "import datetime\n",
    "import itertools\n",
    "import json\n",
    "import os\n",
    "import time\n",
    "from collections import defaultdict\n",
    "from pathlib import Path\n",
    "\n",
    "import matplotlib.pyplot as plt\n",
    "import numpy as np\n",
    "import pandas as pd\n",
    "# import seaborn as sns\n",
    "# import xgboost as xgb\n",
    "from pandas import Series\n",
    "from scipy.stats.mstats import winsorize\n",
    "from sklearn.ensemble import (AdaBoostClassifier, ExtraTreesClassifier,\n",
    "                              GradientBoostingClassifier, RandomForestClassifier)\n",
    "from sklearn.model_selection import KFold, train_test_split, TimeSeriesSplit\n",
    "from sklearn.preprocessing import MinMaxScaler, OneHotEncoder, StandardScaler\n",
    "# from statsmodels.tsa.arima_model import ARIMA\n",
    "\n",
    "from fbprophet import Prophet\n",
    "\n",
    "from tqdm import tqdm_notebook as tqdm\n",
    "\n",
    "import warnings\n",
    "warnings.filterwarnings(\"ignore\")\n",
    "\n",
    "%matplotlib inline\n",
    "# sns.set()"
   ]
  },
  {
   "cell_type": "code",
   "execution_count": 3,
   "metadata": {
    "ExecuteTime": {
     "end_time": "2018-10-21T16:35:30.668570Z",
     "start_time": "2018-10-21T16:35:30.507776Z"
    }
   },
   "outputs": [],
   "source": [
    "merged_csv_path = '../Merge_Data_Non_Negative.csv'\n",
    "merged_df= pd.read_csv(\n",
    "        merged_csv_path, low_memory=False, thousands=',')"
   ]
  },
  {
   "cell_type": "code",
   "execution_count": 4,
   "metadata": {
    "ExecuteTime": {
     "end_time": "2018-10-21T16:35:30.690716Z",
     "start_time": "2018-10-21T16:35:30.671157Z"
    }
   },
   "outputs": [
    {
     "name": "stdout",
     "output_type": "stream",
     "text": [
      "<class 'pandas.core.frame.DataFrame'>\n",
      "RangeIndex: 104510 entries, 0 to 104509\n",
      "Data columns (total 6 columns):\n",
      "sku_id    104510 non-null object\n",
      "week1     104510 non-null float64\n",
      "week2     104510 non-null float64\n",
      "week3     104510 non-null float64\n",
      "week4     104510 non-null float64\n",
      "week5     104510 non-null float64\n",
      "dtypes: float64(5), object(1)\n",
      "memory usage: 4.8+ MB\n"
     ]
    }
   ],
   "source": [
    "merged_df.info()"
   ]
  },
  {
   "cell_type": "code",
   "execution_count": 5,
   "metadata": {
    "ExecuteTime": {
     "end_time": "2018-10-21T16:35:30.861340Z",
     "start_time": "2018-10-21T16:35:30.693756Z"
    }
   },
   "outputs": [
    {
     "data": {
      "text/html": [
       "<div>\n",
       "<style scoped>\n",
       "    .dataframe tbody tr th:only-of-type {\n",
       "        vertical-align: middle;\n",
       "    }\n",
       "\n",
       "    .dataframe tbody tr th {\n",
       "        vertical-align: top;\n",
       "    }\n",
       "\n",
       "    .dataframe thead th {\n",
       "        text-align: right;\n",
       "    }\n",
       "</style>\n",
       "<table border=\"1\" class=\"dataframe\">\n",
       "  <thead>\n",
       "    <tr style=\"text-align: right;\">\n",
       "      <th></th>\n",
       "      <th>sku_id</th>\n",
       "      <th>week1</th>\n",
       "      <th>week2</th>\n",
       "      <th>week3</th>\n",
       "      <th>week4</th>\n",
       "      <th>week5</th>\n",
       "    </tr>\n",
       "  </thead>\n",
       "  <tbody>\n",
       "    <tr>\n",
       "      <th>count</th>\n",
       "      <td>104510</td>\n",
       "      <td>104510.000000</td>\n",
       "      <td>104510.000000</td>\n",
       "      <td>104510.000000</td>\n",
       "      <td>104510.000000</td>\n",
       "      <td>104510.000000</td>\n",
       "    </tr>\n",
       "    <tr>\n",
       "      <th>unique</th>\n",
       "      <td>104510</td>\n",
       "      <td>NaN</td>\n",
       "      <td>NaN</td>\n",
       "      <td>NaN</td>\n",
       "      <td>NaN</td>\n",
       "      <td>NaN</td>\n",
       "    </tr>\n",
       "    <tr>\n",
       "      <th>top</th>\n",
       "      <td>SKwtcjH3</td>\n",
       "      <td>NaN</td>\n",
       "      <td>NaN</td>\n",
       "      <td>NaN</td>\n",
       "      <td>NaN</td>\n",
       "      <td>NaN</td>\n",
       "    </tr>\n",
       "    <tr>\n",
       "      <th>freq</th>\n",
       "      <td>1</td>\n",
       "      <td>NaN</td>\n",
       "      <td>NaN</td>\n",
       "      <td>NaN</td>\n",
       "      <td>NaN</td>\n",
       "      <td>NaN</td>\n",
       "    </tr>\n",
       "    <tr>\n",
       "      <th>mean</th>\n",
       "      <td>NaN</td>\n",
       "      <td>2.793852</td>\n",
       "      <td>2.709377</td>\n",
       "      <td>3.147550</td>\n",
       "      <td>3.762592</td>\n",
       "      <td>4.036621</td>\n",
       "    </tr>\n",
       "    <tr>\n",
       "      <th>std</th>\n",
       "      <td>NaN</td>\n",
       "      <td>11.788133</td>\n",
       "      <td>10.935311</td>\n",
       "      <td>12.351985</td>\n",
       "      <td>15.236028</td>\n",
       "      <td>17.346439</td>\n",
       "    </tr>\n",
       "    <tr>\n",
       "      <th>min</th>\n",
       "      <td>NaN</td>\n",
       "      <td>0.000000</td>\n",
       "      <td>0.000000</td>\n",
       "      <td>0.000000</td>\n",
       "      <td>0.000000</td>\n",
       "      <td>0.000000</td>\n",
       "    </tr>\n",
       "    <tr>\n",
       "      <th>25%</th>\n",
       "      <td>NaN</td>\n",
       "      <td>0.277520</td>\n",
       "      <td>0.301464</td>\n",
       "      <td>0.373967</td>\n",
       "      <td>0.413612</td>\n",
       "      <td>0.385814</td>\n",
       "    </tr>\n",
       "    <tr>\n",
       "      <th>50%</th>\n",
       "      <td>NaN</td>\n",
       "      <td>0.567460</td>\n",
       "      <td>0.567129</td>\n",
       "      <td>0.667230</td>\n",
       "      <td>0.757246</td>\n",
       "      <td>0.709179</td>\n",
       "    </tr>\n",
       "    <tr>\n",
       "      <th>75%</th>\n",
       "      <td>NaN</td>\n",
       "      <td>1.671865</td>\n",
       "      <td>1.649685</td>\n",
       "      <td>1.975092</td>\n",
       "      <td>2.289659</td>\n",
       "      <td>2.282702</td>\n",
       "    </tr>\n",
       "    <tr>\n",
       "      <th>max</th>\n",
       "      <td>NaN</td>\n",
       "      <td>890.808476</td>\n",
       "      <td>820.393937</td>\n",
       "      <td>924.793573</td>\n",
       "      <td>1505.315633</td>\n",
       "      <td>1786.980420</td>\n",
       "    </tr>\n",
       "  </tbody>\n",
       "</table>\n",
       "</div>"
      ],
      "text/plain": [
       "          sku_id          week1          week2          week3          week4  \\\n",
       "count     104510  104510.000000  104510.000000  104510.000000  104510.000000   \n",
       "unique    104510            NaN            NaN            NaN            NaN   \n",
       "top     SKwtcjH3            NaN            NaN            NaN            NaN   \n",
       "freq           1            NaN            NaN            NaN            NaN   \n",
       "mean         NaN       2.793852       2.709377       3.147550       3.762592   \n",
       "std          NaN      11.788133      10.935311      12.351985      15.236028   \n",
       "min          NaN       0.000000       0.000000       0.000000       0.000000   \n",
       "25%          NaN       0.277520       0.301464       0.373967       0.413612   \n",
       "50%          NaN       0.567460       0.567129       0.667230       0.757246   \n",
       "75%          NaN       1.671865       1.649685       1.975092       2.289659   \n",
       "max          NaN     890.808476     820.393937     924.793573    1505.315633   \n",
       "\n",
       "                week5  \n",
       "count   104510.000000  \n",
       "unique            NaN  \n",
       "top               NaN  \n",
       "freq              NaN  \n",
       "mean         4.036621  \n",
       "std         17.346439  \n",
       "min          0.000000  \n",
       "25%          0.385814  \n",
       "50%          0.709179  \n",
       "75%          2.282702  \n",
       "max       1786.980420  "
      ]
     },
     "execution_count": 5,
     "metadata": {},
     "output_type": "execute_result"
    }
   ],
   "source": [
    "merged_df.describe(include='all')"
   ]
  },
  {
   "cell_type": "code",
   "execution_count": 6,
   "metadata": {
    "ExecuteTime": {
     "end_time": "2018-10-21T16:35:31.025367Z",
     "start_time": "2018-10-21T16:35:30.863951Z"
    }
   },
   "outputs": [],
   "source": [
    "best_mean_path = '../mean_submission_52.csv'\n",
    "best_mean_df = pd.read_csv(best_mean_path, low_memory=False, thousands=',')"
   ]
  },
  {
   "cell_type": "code",
   "execution_count": 7,
   "metadata": {
    "ExecuteTime": {
     "end_time": "2018-10-21T16:35:31.045990Z",
     "start_time": "2018-10-21T16:35:31.027101Z"
    }
   },
   "outputs": [
    {
     "name": "stdout",
     "output_type": "stream",
     "text": [
      "<class 'pandas.core.frame.DataFrame'>\n",
      "RangeIndex: 104510 entries, 0 to 104509\n",
      "Data columns (total 6 columns):\n",
      "sku_id    104510 non-null object\n",
      "week1     104510 non-null float64\n",
      "week2     104510 non-null float64\n",
      "week3     104510 non-null float64\n",
      "week4     104510 non-null float64\n",
      "week5     104510 non-null float64\n",
      "dtypes: float64(5), object(1)\n",
      "memory usage: 4.8+ MB\n"
     ]
    }
   ],
   "source": [
    "best_mean_df.info()"
   ]
  },
  {
   "cell_type": "code",
   "execution_count": 8,
   "metadata": {
    "ExecuteTime": {
     "end_time": "2018-10-21T16:35:31.184681Z",
     "start_time": "2018-10-21T16:35:31.047875Z"
    }
   },
   "outputs": [
    {
     "data": {
      "text/html": [
       "<div>\n",
       "<style scoped>\n",
       "    .dataframe tbody tr th:only-of-type {\n",
       "        vertical-align: middle;\n",
       "    }\n",
       "\n",
       "    .dataframe tbody tr th {\n",
       "        vertical-align: top;\n",
       "    }\n",
       "\n",
       "    .dataframe thead th {\n",
       "        text-align: right;\n",
       "    }\n",
       "</style>\n",
       "<table border=\"1\" class=\"dataframe\">\n",
       "  <thead>\n",
       "    <tr style=\"text-align: right;\">\n",
       "      <th></th>\n",
       "      <th>sku_id</th>\n",
       "      <th>week1</th>\n",
       "      <th>week2</th>\n",
       "      <th>week3</th>\n",
       "      <th>week4</th>\n",
       "      <th>week5</th>\n",
       "    </tr>\n",
       "  </thead>\n",
       "  <tbody>\n",
       "    <tr>\n",
       "      <th>count</th>\n",
       "      <td>104510</td>\n",
       "      <td>104510.000000</td>\n",
       "      <td>104510.000000</td>\n",
       "      <td>104510.000000</td>\n",
       "      <td>104510.000000</td>\n",
       "      <td>104510.000000</td>\n",
       "    </tr>\n",
       "    <tr>\n",
       "      <th>unique</th>\n",
       "      <td>104510</td>\n",
       "      <td>NaN</td>\n",
       "      <td>NaN</td>\n",
       "      <td>NaN</td>\n",
       "      <td>NaN</td>\n",
       "      <td>NaN</td>\n",
       "    </tr>\n",
       "    <tr>\n",
       "      <th>top</th>\n",
       "      <td>SKwtcjH3</td>\n",
       "      <td>NaN</td>\n",
       "      <td>NaN</td>\n",
       "      <td>NaN</td>\n",
       "      <td>NaN</td>\n",
       "      <td>NaN</td>\n",
       "    </tr>\n",
       "    <tr>\n",
       "      <th>freq</th>\n",
       "      <td>1</td>\n",
       "      <td>NaN</td>\n",
       "      <td>NaN</td>\n",
       "      <td>NaN</td>\n",
       "      <td>NaN</td>\n",
       "      <td>NaN</td>\n",
       "    </tr>\n",
       "    <tr>\n",
       "      <th>mean</th>\n",
       "      <td>NaN</td>\n",
       "      <td>2.063525</td>\n",
       "      <td>2.063525</td>\n",
       "      <td>2.063525</td>\n",
       "      <td>2.063525</td>\n",
       "      <td>2.063525</td>\n",
       "    </tr>\n",
       "    <tr>\n",
       "      <th>std</th>\n",
       "      <td>NaN</td>\n",
       "      <td>8.364585</td>\n",
       "      <td>8.364585</td>\n",
       "      <td>8.364585</td>\n",
       "      <td>8.364585</td>\n",
       "      <td>8.364585</td>\n",
       "    </tr>\n",
       "    <tr>\n",
       "      <th>min</th>\n",
       "      <td>NaN</td>\n",
       "      <td>0.134615</td>\n",
       "      <td>0.134615</td>\n",
       "      <td>0.134615</td>\n",
       "      <td>0.134615</td>\n",
       "      <td>0.134615</td>\n",
       "    </tr>\n",
       "    <tr>\n",
       "      <th>25%</th>\n",
       "      <td>NaN</td>\n",
       "      <td>0.134615</td>\n",
       "      <td>0.134615</td>\n",
       "      <td>0.134615</td>\n",
       "      <td>0.134615</td>\n",
       "      <td>0.134615</td>\n",
       "    </tr>\n",
       "    <tr>\n",
       "      <th>50%</th>\n",
       "      <td>NaN</td>\n",
       "      <td>0.403846</td>\n",
       "      <td>0.403846</td>\n",
       "      <td>0.403846</td>\n",
       "      <td>0.403846</td>\n",
       "      <td>0.403846</td>\n",
       "    </tr>\n",
       "    <tr>\n",
       "      <th>75%</th>\n",
       "      <td>NaN</td>\n",
       "      <td>1.346154</td>\n",
       "      <td>1.346154</td>\n",
       "      <td>1.346154</td>\n",
       "      <td>1.346154</td>\n",
       "      <td>1.346154</td>\n",
       "    </tr>\n",
       "    <tr>\n",
       "      <th>max</th>\n",
       "      <td>NaN</td>\n",
       "      <td>907.307692</td>\n",
       "      <td>907.307692</td>\n",
       "      <td>907.307692</td>\n",
       "      <td>907.307692</td>\n",
       "      <td>907.307692</td>\n",
       "    </tr>\n",
       "  </tbody>\n",
       "</table>\n",
       "</div>"
      ],
      "text/plain": [
       "          sku_id          week1          week2          week3          week4  \\\n",
       "count     104510  104510.000000  104510.000000  104510.000000  104510.000000   \n",
       "unique    104510            NaN            NaN            NaN            NaN   \n",
       "top     SKwtcjH3            NaN            NaN            NaN            NaN   \n",
       "freq           1            NaN            NaN            NaN            NaN   \n",
       "mean         NaN       2.063525       2.063525       2.063525       2.063525   \n",
       "std          NaN       8.364585       8.364585       8.364585       8.364585   \n",
       "min          NaN       0.134615       0.134615       0.134615       0.134615   \n",
       "25%          NaN       0.134615       0.134615       0.134615       0.134615   \n",
       "50%          NaN       0.403846       0.403846       0.403846       0.403846   \n",
       "75%          NaN       1.346154       1.346154       1.346154       1.346154   \n",
       "max          NaN     907.307692     907.307692     907.307692     907.307692   \n",
       "\n",
       "                week5  \n",
       "count   104510.000000  \n",
       "unique            NaN  \n",
       "top               NaN  \n",
       "freq              NaN  \n",
       "mean         2.063525  \n",
       "std          8.364585  \n",
       "min          0.134615  \n",
       "25%          0.134615  \n",
       "50%          0.403846  \n",
       "75%          1.346154  \n",
       "max        907.307692  "
      ]
     },
     "execution_count": 8,
     "metadata": {},
     "output_type": "execute_result"
    }
   ],
   "source": [
    "best_mean_df.describe(include='all')"
   ]
  },
  {
   "cell_type": "code",
   "execution_count": 9,
   "metadata": {
    "ExecuteTime": {
     "end_time": "2018-10-21T16:35:31.188964Z",
     "start_time": "2018-10-21T16:35:31.186452Z"
    }
   },
   "outputs": [],
   "source": [
    "# plt.plot(best_mean_df.sku_id, best_mean_df.week1)\n",
    "# plt.show()\n",
    "# plt.plot(merged_df.sku_id, merged_df.week1)"
   ]
  },
  {
   "cell_type": "code",
   "execution_count": 10,
   "metadata": {
    "ExecuteTime": {
     "end_time": "2018-10-21T16:35:31.391213Z",
     "start_time": "2018-10-21T16:35:31.191096Z"
    }
   },
   "outputs": [],
   "source": [
    "best_mean_df = best_mean_df.sort_values('sku_id')\n",
    "merged_df = merged_df.sort_values('sku_id')"
   ]
  },
  {
   "cell_type": "code",
   "execution_count": 11,
   "metadata": {
    "ExecuteTime": {
     "end_time": "2018-10-21T16:35:31.401645Z",
     "start_time": "2018-10-21T16:35:31.392959Z"
    }
   },
   "outputs": [
    {
     "data": {
      "text/html": [
       "<div>\n",
       "<style scoped>\n",
       "    .dataframe tbody tr th:only-of-type {\n",
       "        vertical-align: middle;\n",
       "    }\n",
       "\n",
       "    .dataframe tbody tr th {\n",
       "        vertical-align: top;\n",
       "    }\n",
       "\n",
       "    .dataframe thead th {\n",
       "        text-align: right;\n",
       "    }\n",
       "</style>\n",
       "<table border=\"1\" class=\"dataframe\">\n",
       "  <thead>\n",
       "    <tr style=\"text-align: right;\">\n",
       "      <th></th>\n",
       "      <th>sku_id</th>\n",
       "      <th>week1</th>\n",
       "      <th>week2</th>\n",
       "      <th>week3</th>\n",
       "      <th>week4</th>\n",
       "      <th>week5</th>\n",
       "    </tr>\n",
       "  </thead>\n",
       "  <tbody>\n",
       "    <tr>\n",
       "      <th>60436</th>\n",
       "      <td>SK013PAq</td>\n",
       "      <td>0.403846</td>\n",
       "      <td>0.403846</td>\n",
       "      <td>0.403846</td>\n",
       "      <td>0.403846</td>\n",
       "      <td>0.403846</td>\n",
       "    </tr>\n",
       "    <tr>\n",
       "      <th>33306</th>\n",
       "      <td>SK013i5Y</td>\n",
       "      <td>0.538462</td>\n",
       "      <td>0.538462</td>\n",
       "      <td>0.538462</td>\n",
       "      <td>0.538462</td>\n",
       "      <td>0.538462</td>\n",
       "    </tr>\n",
       "    <tr>\n",
       "      <th>45433</th>\n",
       "      <td>SK014m67</td>\n",
       "      <td>1.480769</td>\n",
       "      <td>1.480769</td>\n",
       "      <td>1.480769</td>\n",
       "      <td>1.480769</td>\n",
       "      <td>1.480769</td>\n",
       "    </tr>\n",
       "    <tr>\n",
       "      <th>6603</th>\n",
       "      <td>SK016iX3</td>\n",
       "      <td>0.134615</td>\n",
       "      <td>0.134615</td>\n",
       "      <td>0.134615</td>\n",
       "      <td>0.134615</td>\n",
       "      <td>0.134615</td>\n",
       "    </tr>\n",
       "    <tr>\n",
       "      <th>45068</th>\n",
       "      <td>SK019vAh</td>\n",
       "      <td>0.807692</td>\n",
       "      <td>0.807692</td>\n",
       "      <td>0.807692</td>\n",
       "      <td>0.807692</td>\n",
       "      <td>0.807692</td>\n",
       "    </tr>\n",
       "  </tbody>\n",
       "</table>\n",
       "</div>"
      ],
      "text/plain": [
       "         sku_id     week1     week2     week3     week4     week5\n",
       "60436  SK013PAq  0.403846  0.403846  0.403846  0.403846  0.403846\n",
       "33306  SK013i5Y  0.538462  0.538462  0.538462  0.538462  0.538462\n",
       "45433  SK014m67  1.480769  1.480769  1.480769  1.480769  1.480769\n",
       "6603   SK016iX3  0.134615  0.134615  0.134615  0.134615  0.134615\n",
       "45068  SK019vAh  0.807692  0.807692  0.807692  0.807692  0.807692"
      ]
     },
     "execution_count": 11,
     "metadata": {},
     "output_type": "execute_result"
    }
   ],
   "source": [
    "best_mean_df.head()"
   ]
  },
  {
   "cell_type": "code",
   "execution_count": 12,
   "metadata": {
    "ExecuteTime": {
     "end_time": "2018-10-21T16:35:31.420833Z",
     "start_time": "2018-10-21T16:35:31.410029Z"
    }
   },
   "outputs": [
    {
     "data": {
      "text/html": [
       "<div>\n",
       "<style scoped>\n",
       "    .dataframe tbody tr th:only-of-type {\n",
       "        vertical-align: middle;\n",
       "    }\n",
       "\n",
       "    .dataframe tbody tr th {\n",
       "        vertical-align: top;\n",
       "    }\n",
       "\n",
       "    .dataframe thead th {\n",
       "        text-align: right;\n",
       "    }\n",
       "</style>\n",
       "<table border=\"1\" class=\"dataframe\">\n",
       "  <thead>\n",
       "    <tr style=\"text-align: right;\">\n",
       "      <th></th>\n",
       "      <th>sku_id</th>\n",
       "      <th>week1</th>\n",
       "      <th>week2</th>\n",
       "      <th>week3</th>\n",
       "      <th>week4</th>\n",
       "      <th>week5</th>\n",
       "    </tr>\n",
       "  </thead>\n",
       "  <tbody>\n",
       "    <tr>\n",
       "      <th>58036</th>\n",
       "      <td>SK013PAq</td>\n",
       "      <td>0.984831</td>\n",
       "      <td>0.939258</td>\n",
       "      <td>0.942489</td>\n",
       "      <td>0.981239</td>\n",
       "      <td>0.998873</td>\n",
       "    </tr>\n",
       "    <tr>\n",
       "      <th>27306</th>\n",
       "      <td>SK013i5Y</td>\n",
       "      <td>1.344822</td>\n",
       "      <td>1.648666</td>\n",
       "      <td>1.978070</td>\n",
       "      <td>2.127624</td>\n",
       "      <td>1.990003</td>\n",
       "    </tr>\n",
       "    <tr>\n",
       "      <th>41433</th>\n",
       "      <td>SK014m67</td>\n",
       "      <td>0.498950</td>\n",
       "      <td>0.550849</td>\n",
       "      <td>0.636652</td>\n",
       "      <td>0.643121</td>\n",
       "      <td>0.563581</td>\n",
       "    </tr>\n",
       "    <tr>\n",
       "      <th>48603</th>\n",
       "      <td>SK016iX3</td>\n",
       "      <td>0.530302</td>\n",
       "      <td>0.498344</td>\n",
       "      <td>0.496245</td>\n",
       "      <td>0.521204</td>\n",
       "      <td>0.536979</td>\n",
       "    </tr>\n",
       "    <tr>\n",
       "      <th>41068</th>\n",
       "      <td>SK019vAh</td>\n",
       "      <td>0.589062</td>\n",
       "      <td>0.701647</td>\n",
       "      <td>0.709782</td>\n",
       "      <td>0.607125</td>\n",
       "      <td>0.535784</td>\n",
       "    </tr>\n",
       "  </tbody>\n",
       "</table>\n",
       "</div>"
      ],
      "text/plain": [
       "         sku_id     week1     week2     week3     week4     week5\n",
       "58036  SK013PAq  0.984831  0.939258  0.942489  0.981239  0.998873\n",
       "27306  SK013i5Y  1.344822  1.648666  1.978070  2.127624  1.990003\n",
       "41433  SK014m67  0.498950  0.550849  0.636652  0.643121  0.563581\n",
       "48603  SK016iX3  0.530302  0.498344  0.496245  0.521204  0.536979\n",
       "41068  SK019vAh  0.589062  0.701647  0.709782  0.607125  0.535784"
      ]
     },
     "execution_count": 12,
     "metadata": {},
     "output_type": "execute_result"
    }
   ],
   "source": [
    "merged_df.head()"
   ]
  },
  {
   "cell_type": "code",
   "execution_count": 13,
   "metadata": {
    "ExecuteTime": {
     "end_time": "2018-10-21T16:35:32.283489Z",
     "start_time": "2018-10-21T16:35:31.426212Z"
    }
   },
   "outputs": [],
   "source": [
    "# blending..\n",
    "b1 = best_mean_df.copy()\n",
    "# col = best_mean_df.columns\n",
    "\n",
    "# col = col.tolist()\n",
    "# col.remove('sku_id')\n",
    "# for i in col:\n",
    "#     b1[i] = 0.95 * best_mean_df[i]\n",
    "\n",
    "# #SXX\n",
    "w1 = np.random.uniform(0.75, 0.95) \n",
    "w2 = np.random.uniform(0.95, 1.05)\n",
    "w3 = np.random.uniform(1.8, 2.2)\n",
    "w4 = np.random.uniform(2.3, 2.8)\n",
    "w5 = np.random.uniform(0.98, 1.2)\n",
    "total = 1\n",
    "cons = 0\n",
    "\n",
    "result = b1\n",
    "# result['week1'] = result['week1'] + cons\n",
    "# result['week2'] = result['week2'] + cons\n",
    "# result['week3'] = result['week3'] + cons\n",
    "# result['week4'] = result['week4'] + cons\n",
    "# result['week5'] = result['week5'] + cons\n",
    "result['week1'] = result['week1'] * w1 / total\n",
    "result['week2'] = result['week2'] * w2 / total\n",
    "result['week3'] = result['week3'] * w3 / total\n",
    "result['week4'] = result['week4'] * w4 / total\n",
    "result['week5'] = result['week5'] * w5 / total\n",
    "\n",
    "b1.to_csv('final-uniform.csv', index=False)"
   ]
  },
  {
   "cell_type": "code",
   "execution_count": 14,
   "metadata": {
    "ExecuteTime": {
     "end_time": "2018-10-21T16:35:32.432508Z",
     "start_time": "2018-10-21T16:35:32.285601Z"
    }
   },
   "outputs": [
    {
     "data": {
      "text/html": [
       "<div>\n",
       "<style scoped>\n",
       "    .dataframe tbody tr th:only-of-type {\n",
       "        vertical-align: middle;\n",
       "    }\n",
       "\n",
       "    .dataframe tbody tr th {\n",
       "        vertical-align: top;\n",
       "    }\n",
       "\n",
       "    .dataframe thead th {\n",
       "        text-align: right;\n",
       "    }\n",
       "</style>\n",
       "<table border=\"1\" class=\"dataframe\">\n",
       "  <thead>\n",
       "    <tr style=\"text-align: right;\">\n",
       "      <th></th>\n",
       "      <th>sku_id</th>\n",
       "      <th>week1</th>\n",
       "      <th>week2</th>\n",
       "      <th>week3</th>\n",
       "      <th>week4</th>\n",
       "      <th>week5</th>\n",
       "    </tr>\n",
       "  </thead>\n",
       "  <tbody>\n",
       "    <tr>\n",
       "      <th>count</th>\n",
       "      <td>104510</td>\n",
       "      <td>104510.000000</td>\n",
       "      <td>104510.000000</td>\n",
       "      <td>104510.000000</td>\n",
       "      <td>104510.000000</td>\n",
       "      <td>104510.000000</td>\n",
       "    </tr>\n",
       "    <tr>\n",
       "      <th>unique</th>\n",
       "      <td>104510</td>\n",
       "      <td>NaN</td>\n",
       "      <td>NaN</td>\n",
       "      <td>NaN</td>\n",
       "      <td>NaN</td>\n",
       "      <td>NaN</td>\n",
       "    </tr>\n",
       "    <tr>\n",
       "      <th>top</th>\n",
       "      <td>SKRv08nT</td>\n",
       "      <td>NaN</td>\n",
       "      <td>NaN</td>\n",
       "      <td>NaN</td>\n",
       "      <td>NaN</td>\n",
       "      <td>NaN</td>\n",
       "    </tr>\n",
       "    <tr>\n",
       "      <th>freq</th>\n",
       "      <td>1</td>\n",
       "      <td>NaN</td>\n",
       "      <td>NaN</td>\n",
       "      <td>NaN</td>\n",
       "      <td>NaN</td>\n",
       "      <td>NaN</td>\n",
       "    </tr>\n",
       "    <tr>\n",
       "      <th>mean</th>\n",
       "      <td>NaN</td>\n",
       "      <td>1.776787</td>\n",
       "      <td>2.105642</td>\n",
       "      <td>4.180757</td>\n",
       "      <td>5.558386</td>\n",
       "      <td>2.243895</td>\n",
       "    </tr>\n",
       "    <tr>\n",
       "      <th>std</th>\n",
       "      <td>NaN</td>\n",
       "      <td>7.202281</td>\n",
       "      <td>8.535309</td>\n",
       "      <td>16.946879</td>\n",
       "      <td>22.531156</td>\n",
       "      <td>9.095723</td>\n",
       "    </tr>\n",
       "    <tr>\n",
       "      <th>min</th>\n",
       "      <td>NaN</td>\n",
       "      <td>0.115910</td>\n",
       "      <td>0.137363</td>\n",
       "      <td>0.272734</td>\n",
       "      <td>0.362605</td>\n",
       "      <td>0.146382</td>\n",
       "    </tr>\n",
       "    <tr>\n",
       "      <th>25%</th>\n",
       "      <td>NaN</td>\n",
       "      <td>0.115910</td>\n",
       "      <td>0.137363</td>\n",
       "      <td>0.272734</td>\n",
       "      <td>0.362605</td>\n",
       "      <td>0.146382</td>\n",
       "    </tr>\n",
       "    <tr>\n",
       "      <th>50%</th>\n",
       "      <td>NaN</td>\n",
       "      <td>0.347730</td>\n",
       "      <td>0.412089</td>\n",
       "      <td>0.818203</td>\n",
       "      <td>1.087815</td>\n",
       "      <td>0.439146</td>\n",
       "    </tr>\n",
       "    <tr>\n",
       "      <th>75%</th>\n",
       "      <td>NaN</td>\n",
       "      <td>1.159098</td>\n",
       "      <td>1.373629</td>\n",
       "      <td>2.727345</td>\n",
       "      <td>3.626050</td>\n",
       "      <td>1.463819</td>\n",
       "    </tr>\n",
       "    <tr>\n",
       "      <th>max</th>\n",
       "      <td>NaN</td>\n",
       "      <td>781.232388</td>\n",
       "      <td>925.826101</td>\n",
       "      <td>1838.230206</td>\n",
       "      <td>2443.957522</td>\n",
       "      <td>986.614278</td>\n",
       "    </tr>\n",
       "  </tbody>\n",
       "</table>\n",
       "</div>"
      ],
      "text/plain": [
       "          sku_id          week1          week2          week3          week4  \\\n",
       "count     104510  104510.000000  104510.000000  104510.000000  104510.000000   \n",
       "unique    104510            NaN            NaN            NaN            NaN   \n",
       "top     SKRv08nT            NaN            NaN            NaN            NaN   \n",
       "freq           1            NaN            NaN            NaN            NaN   \n",
       "mean         NaN       1.776787       2.105642       4.180757       5.558386   \n",
       "std          NaN       7.202281       8.535309      16.946879      22.531156   \n",
       "min          NaN       0.115910       0.137363       0.272734       0.362605   \n",
       "25%          NaN       0.115910       0.137363       0.272734       0.362605   \n",
       "50%          NaN       0.347730       0.412089       0.818203       1.087815   \n",
       "75%          NaN       1.159098       1.373629       2.727345       3.626050   \n",
       "max          NaN     781.232388     925.826101    1838.230206    2443.957522   \n",
       "\n",
       "                week5  \n",
       "count   104510.000000  \n",
       "unique            NaN  \n",
       "top               NaN  \n",
       "freq              NaN  \n",
       "mean         2.243895  \n",
       "std          9.095723  \n",
       "min          0.146382  \n",
       "25%          0.146382  \n",
       "50%          0.439146  \n",
       "75%          1.463819  \n",
       "max        986.614278  "
      ]
     },
     "execution_count": 14,
     "metadata": {},
     "output_type": "execute_result"
    }
   ],
   "source": [
    "b1.describe(include='all')"
   ]
  },
  {
   "cell_type": "code",
   "execution_count": 15,
   "metadata": {
    "ExecuteTime": {
     "end_time": "2018-10-21T16:35:32.593831Z",
     "start_time": "2018-10-21T16:35:32.434693Z"
    }
   },
   "outputs": [
    {
     "data": {
      "text/html": [
       "<div>\n",
       "<style scoped>\n",
       "    .dataframe tbody tr th:only-of-type {\n",
       "        vertical-align: middle;\n",
       "    }\n",
       "\n",
       "    .dataframe tbody tr th {\n",
       "        vertical-align: top;\n",
       "    }\n",
       "\n",
       "    .dataframe thead th {\n",
       "        text-align: right;\n",
       "    }\n",
       "</style>\n",
       "<table border=\"1\" class=\"dataframe\">\n",
       "  <thead>\n",
       "    <tr style=\"text-align: right;\">\n",
       "      <th></th>\n",
       "      <th>sku_id</th>\n",
       "      <th>week1</th>\n",
       "      <th>week2</th>\n",
       "      <th>week3</th>\n",
       "      <th>week4</th>\n",
       "      <th>week5</th>\n",
       "    </tr>\n",
       "  </thead>\n",
       "  <tbody>\n",
       "    <tr>\n",
       "      <th>count</th>\n",
       "      <td>104510</td>\n",
       "      <td>104510.000000</td>\n",
       "      <td>104510.000000</td>\n",
       "      <td>104510.000000</td>\n",
       "      <td>104510.000000</td>\n",
       "      <td>104510.000000</td>\n",
       "    </tr>\n",
       "    <tr>\n",
       "      <th>unique</th>\n",
       "      <td>104510</td>\n",
       "      <td>NaN</td>\n",
       "      <td>NaN</td>\n",
       "      <td>NaN</td>\n",
       "      <td>NaN</td>\n",
       "      <td>NaN</td>\n",
       "    </tr>\n",
       "    <tr>\n",
       "      <th>top</th>\n",
       "      <td>SKRv08nT</td>\n",
       "      <td>NaN</td>\n",
       "      <td>NaN</td>\n",
       "      <td>NaN</td>\n",
       "      <td>NaN</td>\n",
       "      <td>NaN</td>\n",
       "    </tr>\n",
       "    <tr>\n",
       "      <th>freq</th>\n",
       "      <td>1</td>\n",
       "      <td>NaN</td>\n",
       "      <td>NaN</td>\n",
       "      <td>NaN</td>\n",
       "      <td>NaN</td>\n",
       "      <td>NaN</td>\n",
       "    </tr>\n",
       "    <tr>\n",
       "      <th>mean</th>\n",
       "      <td>NaN</td>\n",
       "      <td>2.063525</td>\n",
       "      <td>2.063525</td>\n",
       "      <td>2.063525</td>\n",
       "      <td>2.063525</td>\n",
       "      <td>2.063525</td>\n",
       "    </tr>\n",
       "    <tr>\n",
       "      <th>std</th>\n",
       "      <td>NaN</td>\n",
       "      <td>8.364585</td>\n",
       "      <td>8.364585</td>\n",
       "      <td>8.364585</td>\n",
       "      <td>8.364585</td>\n",
       "      <td>8.364585</td>\n",
       "    </tr>\n",
       "    <tr>\n",
       "      <th>min</th>\n",
       "      <td>NaN</td>\n",
       "      <td>0.134615</td>\n",
       "      <td>0.134615</td>\n",
       "      <td>0.134615</td>\n",
       "      <td>0.134615</td>\n",
       "      <td>0.134615</td>\n",
       "    </tr>\n",
       "    <tr>\n",
       "      <th>25%</th>\n",
       "      <td>NaN</td>\n",
       "      <td>0.134615</td>\n",
       "      <td>0.134615</td>\n",
       "      <td>0.134615</td>\n",
       "      <td>0.134615</td>\n",
       "      <td>0.134615</td>\n",
       "    </tr>\n",
       "    <tr>\n",
       "      <th>50%</th>\n",
       "      <td>NaN</td>\n",
       "      <td>0.403846</td>\n",
       "      <td>0.403846</td>\n",
       "      <td>0.403846</td>\n",
       "      <td>0.403846</td>\n",
       "      <td>0.403846</td>\n",
       "    </tr>\n",
       "    <tr>\n",
       "      <th>75%</th>\n",
       "      <td>NaN</td>\n",
       "      <td>1.346154</td>\n",
       "      <td>1.346154</td>\n",
       "      <td>1.346154</td>\n",
       "      <td>1.346154</td>\n",
       "      <td>1.346154</td>\n",
       "    </tr>\n",
       "    <tr>\n",
       "      <th>max</th>\n",
       "      <td>NaN</td>\n",
       "      <td>907.307692</td>\n",
       "      <td>907.307692</td>\n",
       "      <td>907.307692</td>\n",
       "      <td>907.307692</td>\n",
       "      <td>907.307692</td>\n",
       "    </tr>\n",
       "  </tbody>\n",
       "</table>\n",
       "</div>"
      ],
      "text/plain": [
       "          sku_id          week1          week2          week3          week4  \\\n",
       "count     104510  104510.000000  104510.000000  104510.000000  104510.000000   \n",
       "unique    104510            NaN            NaN            NaN            NaN   \n",
       "top     SKRv08nT            NaN            NaN            NaN            NaN   \n",
       "freq           1            NaN            NaN            NaN            NaN   \n",
       "mean         NaN       2.063525       2.063525       2.063525       2.063525   \n",
       "std          NaN       8.364585       8.364585       8.364585       8.364585   \n",
       "min          NaN       0.134615       0.134615       0.134615       0.134615   \n",
       "25%          NaN       0.134615       0.134615       0.134615       0.134615   \n",
       "50%          NaN       0.403846       0.403846       0.403846       0.403846   \n",
       "75%          NaN       1.346154       1.346154       1.346154       1.346154   \n",
       "max          NaN     907.307692     907.307692     907.307692     907.307692   \n",
       "\n",
       "                week5  \n",
       "count   104510.000000  \n",
       "unique            NaN  \n",
       "top               NaN  \n",
       "freq              NaN  \n",
       "mean         2.063525  \n",
       "std          8.364585  \n",
       "min          0.134615  \n",
       "25%          0.134615  \n",
       "50%          0.403846  \n",
       "75%          1.346154  \n",
       "max        907.307692  "
      ]
     },
     "execution_count": 15,
     "metadata": {},
     "output_type": "execute_result"
    }
   ],
   "source": [
    "best_mean_df.describe(include='all')"
   ]
  },
  {
   "cell_type": "code",
   "execution_count": 16,
   "metadata": {
    "ExecuteTime": {
     "end_time": "2018-10-21T16:35:32.606153Z",
     "start_time": "2018-10-21T16:35:32.595641Z"
    }
   },
   "outputs": [
    {
     "data": {
      "text/html": [
       "<div>\n",
       "<style scoped>\n",
       "    .dataframe tbody tr th:only-of-type {\n",
       "        vertical-align: middle;\n",
       "    }\n",
       "\n",
       "    .dataframe tbody tr th {\n",
       "        vertical-align: top;\n",
       "    }\n",
       "\n",
       "    .dataframe thead th {\n",
       "        text-align: right;\n",
       "    }\n",
       "</style>\n",
       "<table border=\"1\" class=\"dataframe\">\n",
       "  <thead>\n",
       "    <tr style=\"text-align: right;\">\n",
       "      <th></th>\n",
       "      <th>sku_id</th>\n",
       "      <th>week1</th>\n",
       "      <th>week2</th>\n",
       "      <th>week3</th>\n",
       "      <th>week4</th>\n",
       "      <th>week5</th>\n",
       "    </tr>\n",
       "  </thead>\n",
       "  <tbody>\n",
       "    <tr>\n",
       "      <th>60436</th>\n",
       "      <td>SK013PAq</td>\n",
       "      <td>0.403846</td>\n",
       "      <td>0.403846</td>\n",
       "      <td>0.403846</td>\n",
       "      <td>0.403846</td>\n",
       "      <td>0.403846</td>\n",
       "    </tr>\n",
       "    <tr>\n",
       "      <th>33306</th>\n",
       "      <td>SK013i5Y</td>\n",
       "      <td>0.538462</td>\n",
       "      <td>0.538462</td>\n",
       "      <td>0.538462</td>\n",
       "      <td>0.538462</td>\n",
       "      <td>0.538462</td>\n",
       "    </tr>\n",
       "  </tbody>\n",
       "</table>\n",
       "</div>"
      ],
      "text/plain": [
       "         sku_id     week1     week2     week3     week4     week5\n",
       "60436  SK013PAq  0.403846  0.403846  0.403846  0.403846  0.403846\n",
       "33306  SK013i5Y  0.538462  0.538462  0.538462  0.538462  0.538462"
      ]
     },
     "execution_count": 16,
     "metadata": {},
     "output_type": "execute_result"
    }
   ],
   "source": [
    "best_mean_df.head(2)"
   ]
  },
  {
   "cell_type": "code",
   "execution_count": 17,
   "metadata": {
    "ExecuteTime": {
     "end_time": "2018-10-21T16:35:32.618020Z",
     "start_time": "2018-10-21T16:35:32.607757Z"
    }
   },
   "outputs": [
    {
     "data": {
      "text/html": [
       "<div>\n",
       "<style scoped>\n",
       "    .dataframe tbody tr th:only-of-type {\n",
       "        vertical-align: middle;\n",
       "    }\n",
       "\n",
       "    .dataframe tbody tr th {\n",
       "        vertical-align: top;\n",
       "    }\n",
       "\n",
       "    .dataframe thead th {\n",
       "        text-align: right;\n",
       "    }\n",
       "</style>\n",
       "<table border=\"1\" class=\"dataframe\">\n",
       "  <thead>\n",
       "    <tr style=\"text-align: right;\">\n",
       "      <th></th>\n",
       "      <th>sku_id</th>\n",
       "      <th>week1</th>\n",
       "      <th>week2</th>\n",
       "      <th>week3</th>\n",
       "      <th>week4</th>\n",
       "      <th>week5</th>\n",
       "    </tr>\n",
       "  </thead>\n",
       "  <tbody>\n",
       "    <tr>\n",
       "      <th>60436</th>\n",
       "      <td>SK013PAq</td>\n",
       "      <td>0.347730</td>\n",
       "      <td>0.412089</td>\n",
       "      <td>0.818203</td>\n",
       "      <td>1.087815</td>\n",
       "      <td>0.439146</td>\n",
       "    </tr>\n",
       "    <tr>\n",
       "      <th>33306</th>\n",
       "      <td>SK013i5Y</td>\n",
       "      <td>0.463639</td>\n",
       "      <td>0.549452</td>\n",
       "      <td>1.090938</td>\n",
       "      <td>1.450420</td>\n",
       "      <td>0.585528</td>\n",
       "    </tr>\n",
       "  </tbody>\n",
       "</table>\n",
       "</div>"
      ],
      "text/plain": [
       "         sku_id     week1     week2     week3     week4     week5\n",
       "60436  SK013PAq  0.347730  0.412089  0.818203  1.087815  0.439146\n",
       "33306  SK013i5Y  0.463639  0.549452  1.090938  1.450420  0.585528"
      ]
     },
     "execution_count": 17,
     "metadata": {},
     "output_type": "execute_result"
    }
   ],
   "source": [
    "b1.head(2)"
   ]
  },
  {
   "cell_type": "code",
   "execution_count": 23,
   "metadata": {
    "ExecuteTime": {
     "end_time": "2018-10-21T16:37:49.208299Z",
     "start_time": "2018-10-21T16:37:49.197172Z"
    }
   },
   "outputs": [
    {
     "data": {
      "text/plain": [
       "0.8610445991028529"
      ]
     },
     "execution_count": 23,
     "metadata": {},
     "output_type": "execute_result"
    }
   ],
   "source": [
    "b1['week1'][60436] / best_mean_df['week1'][60436]"
   ]
  },
  {
   "cell_type": "code",
   "execution_count": 24,
   "metadata": {
    "ExecuteTime": {
     "end_time": "2018-10-21T16:38:05.177017Z",
     "start_time": "2018-10-21T16:38:05.171760Z"
    }
   },
   "outputs": [
    {
     "data": {
      "text/plain": [
       "1.0204102853493582"
      ]
     },
     "execution_count": 24,
     "metadata": {},
     "output_type": "execute_result"
    }
   ],
   "source": [
    "b1['week2'][60436] / best_mean_df['week2'][60436]"
   ]
  },
  {
   "cell_type": "code",
   "execution_count": 25,
   "metadata": {
    "ExecuteTime": {
     "end_time": "2018-10-21T16:38:10.847430Z",
     "start_time": "2018-10-21T16:38:10.842623Z"
    }
   },
   "outputs": [
    {
     "data": {
      "text/plain": [
       "2.0260273577387697"
      ]
     },
     "execution_count": 25,
     "metadata": {},
     "output_type": "execute_result"
    }
   ],
   "source": [
    "b1['week3'][60436] / best_mean_df['week3'][60436]"
   ]
  },
  {
   "cell_type": "code",
   "execution_count": 26,
   "metadata": {
    "ExecuteTime": {
     "end_time": "2018-10-21T16:38:17.581351Z",
     "start_time": "2018-10-21T16:38:17.576642Z"
    }
   },
   "outputs": [
    {
     "data": {
      "text/plain": [
       "2.6936369468378225"
      ]
     },
     "execution_count": 26,
     "metadata": {},
     "output_type": "execute_result"
    }
   ],
   "source": [
    "b1['week4'][60436] / best_mean_df['week4'][60436]"
   ]
  },
  {
   "cell_type": "code",
   "execution_count": 27,
   "metadata": {
    "ExecuteTime": {
     "end_time": "2018-10-21T16:38:25.128072Z",
     "start_time": "2018-10-21T16:38:25.122874Z"
    }
   },
   "outputs": [
    {
     "data": {
      "text/plain": [
       "1.0874086995420913"
      ]
     },
     "execution_count": 27,
     "metadata": {},
     "output_type": "execute_result"
    }
   ],
   "source": [
    "b1['week5'][60436] / best_mean_df['week5'][60436]"
   ]
  },
  {
   "cell_type": "code",
   "execution_count": null,
   "metadata": {},
   "outputs": [],
   "source": [
    "from sklearn.model_selection import GridSearchCV\n",
    "from xgboost import XGBClassifier\n",
    "\n",
    "cv_params = {\n",
    "    # 'n_estimators': range(160, 200, 3),\n",
    "    # 'max_depth': [4, 5, 6, 7],\n",
    "    # 'min_child_weight': [1, 2],\n",
    "    # 'gamma': [i / 30.0 for i in range(0, 5)],\n",
    "    # 'subsample': [i * .01 for i in range(80, 90, 1)],\n",
    "    # 'colsample_bytree': [i * .01 for i in range(80, 90, 1)],\n",
    "    # 'reg_alpha': [0.0001, 0.001, 0.005, 0.01],\n",
    "    # 'reg_lambda': [1e-6, 1e-5, 1e-4, 1e-3],\n",
    "    # 'learning_rate': [0.1 + 0.1 * i for i in range(10)],\n",
    "}\n",
    "other_params = {\n",
    "    'n_estimators': 5000,\n",
    "    'max_depth': 5,\n",
    "    'min_child_weight': 1,\n",
    "    'gamma': 0.0,\n",
    "    'subsample': 0.86,\n",
    "    'colsample_bytree': 0.84,\n",
    "    'reg_alpha': .0001,\n",
    "    'reg_lambda': 1e-6,\n",
    "\n",
    "    'seed': 42,\n",
    "\n",
    "    'learning_rate': 0.05,\n",
    "}\n",
    "\n",
    "fit_params = {\n",
    "    \"early_stopping_rounds\": 50,\n",
    "    \"eval_set\": [(X, Y)],\n",
    "}\n",
    "model = XGBClassifier(**other_params)\n",
    "model.fit(X, Y)\n",
    "print(\"xgb accuracy: {}\".format(model.score(X, Y)))\n",
    "y_pred = model.predict(test)\n",
    "grid_search = GridSearchCV(estimator=model, param_grid=cv_params, fit_params=fit_params, cv=5,\n",
    "                           verbose=1, n_jobs=4)\n",
    "grid_search.fit(X, Y)\n",
    "print('每轮迭代运行结果: {0}'.format(grid_search.cv_results_))\n",
    "print('参数的最佳取值：{0}'.format(grid_search.best_params_))\n",
    "print('最佳模型得分: {0}'.format(grid_search.best_score_))\n",
    "y_pred = grid_search.predict(test)"
   ]
  },
  {
   "cell_type": "code",
   "execution_count": null,
   "metadata": {},
   "outputs": [],
   "source": [
    "# blending..\n",
    "b1 = best_mean_df.copy()\n",
    "# col = best_mean_df.columns\n",
    "\n",
    "# col = col.tolist()\n",
    "# col.remove('sku_id')\n",
    "# for i in col:\n",
    "#     b1[i] = 0.95 * best_mean_df[i]\n",
    "\n",
    "# #SXX\n",
    "w1 = np.random.uniform(0.75, 0.95) \n",
    "w2 = np.random.uniform(0.95, 1.05)\n",
    "w3 = np.random.uniform(1.8, 2.2)\n",
    "w4 = np.random.uniform(2.3, 2.8)\n",
    "w5 = np.random.uniform(0.98, 1.2)\n",
    "total = 1\n",
    "cons = 0\n",
    "\n",
    "result = b1\n",
    "# result['week1'] = result['week1'] + cons\n",
    "# result['week2'] = result['week2'] + cons\n",
    "# result['week3'] = result['week3'] + cons\n",
    "# result['week4'] = result['week4'] + cons\n",
    "# result['week5'] = result['week5'] + cons\n",
    "result['week1'] = result['week1'] * w1 / total\n",
    "result['week2'] = result['week2'] * w2 / total\n",
    "result['week3'] = result['week3'] * w3 / total\n",
    "result['week4'] = result['week4'] * w4 / total\n",
    "result['week5'] = result['week5'] * w5 / total\n",
    "\n",
    "b1.to_csv('final-uniform.csv', index=False)"
   ]
  }
 ],
 "metadata": {
  "kernelspec": {
   "display_name": "Python 3",
   "language": "python",
   "name": "python3"
  },
  "language_info": {
   "codemirror_mode": {
    "name": "ipython",
    "version": 3
   },
   "file_extension": ".py",
   "mimetype": "text/x-python",
   "name": "python",
   "nbconvert_exporter": "python",
   "pygments_lexer": "ipython3",
   "version": "3.6.6"
  },
  "toc": {
   "base_numbering": 1,
   "nav_menu": {},
   "number_sections": true,
   "sideBar": true,
   "skip_h1_title": false,
   "title_cell": "Table of Contents",
   "title_sidebar": "Contents",
   "toc_cell": false,
   "toc_position": {},
   "toc_section_display": true,
   "toc_window_display": true
  },
  "varInspector": {
   "cols": {
    "lenName": 16,
    "lenType": 16,
    "lenVar": 40
   },
   "kernels_config": {
    "python": {
     "delete_cmd_postfix": "",
     "delete_cmd_prefix": "del ",
     "library": "var_list.py",
     "varRefreshCmd": "print(var_dic_list())"
    },
    "r": {
     "delete_cmd_postfix": ") ",
     "delete_cmd_prefix": "rm(",
     "library": "var_list.r",
     "varRefreshCmd": "cat(var_dic_list()) "
    }
   },
   "types_to_exclude": [
    "module",
    "function",
    "builtin_function_or_method",
    "instance",
    "_Feature"
   ],
   "window_display": true
  }
 },
 "nbformat": 4,
 "nbformat_minor": 2
}
