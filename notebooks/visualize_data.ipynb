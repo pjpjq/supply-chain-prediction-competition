{
 "cells": [
  {
   "cell_type": "code",
   "execution_count": 95,
   "metadata": {},
   "outputs": [],
   "source": [
    "import os\n",
    "import itertools\n",
    "import time\n",
    "import json\n",
    "import tqdm\n",
    "\n",
    "import xgboost as xgb\n",
    "import matplotlib.pyplot as plt\n",
    "import seaborn as sns\n",
    "import pandas as pd\n",
    "import numpy as np\n",
    "from pathlib import Path\n",
    "%matplotlib inline\n",
    "\n",
    "from sklearn.ensemble import (RandomForestClassifier, AdaBoostClassifier, \n",
    "                              GradientBoostingClassifier, ExtraTreesClassifier)\n",
    "from sklearn.model_selection import KFold"
   ]
  },
  {
   "cell_type": "markdown",
   "metadata": {},
   "source": [
    "## Feature Exploration, Engineering and Cleaning"
   ]
  },
  {
   "cell_type": "code",
   "execution_count": 96,
   "metadata": {},
   "outputs": [],
   "source": [
    "# Load datasets 好慢啊\n",
    "goods_promote_price = pd.read_csv('../datasets/goods_promote_price.csv', low_memory=False)\n",
    "goods_sku_relation = pd.read_csv('../datasets/goods_sku_relation.csv', low_memory=False)\n",
    "goodsale = pd.read_csv('../datasets/goodsale.csv', low_memory=False)\n",
    "goodsdaily = pd.read_csv('../datasets/goodsdaily.csv', low_memory=False)\n",
    "marketing = pd.read_csv('../datasets/marketing.csv', low_memory=False)\n",
    "goodsinfo = pd.read_csv('../datasets/goodsinfo.csv', low_memory=False)"
   ]
  },
  {
   "cell_type": "markdown",
   "metadata": {},
   "source": [
    "### goodsdaily 商品在用户层日常表现"
   ]
  },
  {
   "cell_type": "code",
   "execution_count": 97,
   "metadata": {
    "scrolled": true
   },
   "outputs": [
    {
     "data": {
      "text/html": [
       "<div>\n",
       "<style scoped>\n",
       "    .dataframe tbody tr th:only-of-type {\n",
       "        vertical-align: middle;\n",
       "    }\n",
       "\n",
       "    .dataframe tbody tr th {\n",
       "        vertical-align: top;\n",
       "    }\n",
       "\n",
       "    .dataframe thead th {\n",
       "        text-align: right;\n",
       "    }\n",
       "</style>\n",
       "<table border=\"1\" class=\"dataframe\">\n",
       "  <thead>\n",
       "    <tr style=\"text-align: right;\">\n",
       "      <th></th>\n",
       "      <th>data_date</th>\n",
       "      <th>goods_id</th>\n",
       "      <th>goods_click</th>\n",
       "      <th>cart_click</th>\n",
       "      <th>favorites_click</th>\n",
       "      <th>sales_uv</th>\n",
       "      <th>onsale_days</th>\n",
       "    </tr>\n",
       "  </thead>\n",
       "  <tbody>\n",
       "    <tr>\n",
       "      <th>0</th>\n",
       "      <td>20170823</td>\n",
       "      <td>G8OeZY</td>\n",
       "      <td>72</td>\n",
       "      <td>2</td>\n",
       "      <td>3</td>\n",
       "      <td>0</td>\n",
       "      <td>6</td>\n",
       "    </tr>\n",
       "    <tr>\n",
       "      <th>1</th>\n",
       "      <td>20170823</td>\n",
       "      <td>Gjytr2</td>\n",
       "      <td>96</td>\n",
       "      <td>0</td>\n",
       "      <td>1</td>\n",
       "      <td>0</td>\n",
       "      <td>336</td>\n",
       "    </tr>\n",
       "    <tr>\n",
       "      <th>2</th>\n",
       "      <td>20170823</td>\n",
       "      <td>GR0SgC</td>\n",
       "      <td>15</td>\n",
       "      <td>0</td>\n",
       "      <td>0</td>\n",
       "      <td>0</td>\n",
       "      <td>98</td>\n",
       "    </tr>\n",
       "    <tr>\n",
       "      <th>3</th>\n",
       "      <td>20170823</td>\n",
       "      <td>GMkqxN</td>\n",
       "      <td>9</td>\n",
       "      <td>0</td>\n",
       "      <td>0</td>\n",
       "      <td>0</td>\n",
       "      <td>13</td>\n",
       "    </tr>\n",
       "    <tr>\n",
       "      <th>4</th>\n",
       "      <td>20170823</td>\n",
       "      <td>GuRXYe</td>\n",
       "      <td>538</td>\n",
       "      <td>5</td>\n",
       "      <td>9</td>\n",
       "      <td>2</td>\n",
       "      <td>69</td>\n",
       "    </tr>\n",
       "  </tbody>\n",
       "</table>\n",
       "</div>"
      ],
      "text/plain": [
       "   data_date goods_id  goods_click  cart_click  favorites_click  sales_uv  \\\n",
       "0   20170823   G8OeZY           72           2                3         0   \n",
       "1   20170823   Gjytr2           96           0                1         0   \n",
       "2   20170823   GR0SgC           15           0                0         0   \n",
       "3   20170823   GMkqxN            9           0                0         0   \n",
       "4   20170823   GuRXYe          538           5                9         2   \n",
       "\n",
       "   onsale_days  \n",
       "0            6  \n",
       "1          336  \n",
       "2           98  \n",
       "3           13  \n",
       "4           69  "
      ]
     },
     "execution_count": 97,
     "metadata": {},
     "output_type": "execute_result"
    }
   ],
   "source": [
    "goodsdaily.head(5)"
   ]
  },
  {
   "cell_type": "code",
   "execution_count": 98,
   "metadata": {},
   "outputs": [
    {
     "name": "stdout",
     "output_type": "stream",
     "text": [
      "<class 'pandas.core.frame.DataFrame'>\n",
      "RangeIndex: 35201588 entries, 0 to 35201587\n",
      "Data columns (total 7 columns):\n",
      "data_date          int64\n",
      "goods_id           object\n",
      "goods_click        int64\n",
      "cart_click         int64\n",
      "favorites_click    int64\n",
      "sales_uv           int64\n",
      "onsale_days        int64\n",
      "dtypes: int64(6), object(1)\n",
      "memory usage: 1.8+ GB\n"
     ]
    }
   ],
   "source": [
    "goodsdaily.info()"
   ]
  },
  {
   "cell_type": "code",
   "execution_count": 99,
   "metadata": {},
   "outputs": [
    {
     "data": {
      "text/html": [
       "<div>\n",
       "<style scoped>\n",
       "    .dataframe tbody tr th:only-of-type {\n",
       "        vertical-align: middle;\n",
       "    }\n",
       "\n",
       "    .dataframe tbody tr th {\n",
       "        vertical-align: top;\n",
       "    }\n",
       "\n",
       "    .dataframe thead th {\n",
       "        text-align: right;\n",
       "    }\n",
       "</style>\n",
       "<table border=\"1\" class=\"dataframe\">\n",
       "  <thead>\n",
       "    <tr style=\"text-align: right;\">\n",
       "      <th></th>\n",
       "      <th>data_date</th>\n",
       "      <th>goods_click</th>\n",
       "      <th>cart_click</th>\n",
       "      <th>favorites_click</th>\n",
       "      <th>sales_uv</th>\n",
       "      <th>onsale_days</th>\n",
       "    </tr>\n",
       "  </thead>\n",
       "  <tbody>\n",
       "    <tr>\n",
       "      <th>count</th>\n",
       "      <td>3.520159e+07</td>\n",
       "      <td>3.520159e+07</td>\n",
       "      <td>3.520159e+07</td>\n",
       "      <td>3.520159e+07</td>\n",
       "      <td>3.520159e+07</td>\n",
       "      <td>3.520159e+07</td>\n",
       "    </tr>\n",
       "    <tr>\n",
       "      <th>mean</th>\n",
       "      <td>2.017323e+07</td>\n",
       "      <td>8.163273e+01</td>\n",
       "      <td>3.240518e+00</td>\n",
       "      <td>1.709665e+00</td>\n",
       "      <td>4.639567e-01</td>\n",
       "      <td>1.704799e+02</td>\n",
       "    </tr>\n",
       "    <tr>\n",
       "      <th>std</th>\n",
       "      <td>4.054337e+03</td>\n",
       "      <td>3.859332e+02</td>\n",
       "      <td>2.150991e+01</td>\n",
       "      <td>7.565983e+00</td>\n",
       "      <td>3.962768e+00</td>\n",
       "      <td>2.077281e+02</td>\n",
       "    </tr>\n",
       "    <tr>\n",
       "      <th>min</th>\n",
       "      <td>2.017030e+07</td>\n",
       "      <td>1.000000e+00</td>\n",
       "      <td>0.000000e+00</td>\n",
       "      <td>0.000000e+00</td>\n",
       "      <td>0.000000e+00</td>\n",
       "      <td>0.000000e+00</td>\n",
       "    </tr>\n",
       "    <tr>\n",
       "      <th>25%</th>\n",
       "      <td>2.017073e+07</td>\n",
       "      <td>4.000000e+00</td>\n",
       "      <td>0.000000e+00</td>\n",
       "      <td>0.000000e+00</td>\n",
       "      <td>0.000000e+00</td>\n",
       "      <td>4.300000e+01</td>\n",
       "    </tr>\n",
       "    <tr>\n",
       "      <th>50%</th>\n",
       "      <td>2.017103e+07</td>\n",
       "      <td>1.200000e+01</td>\n",
       "      <td>0.000000e+00</td>\n",
       "      <td>0.000000e+00</td>\n",
       "      <td>0.000000e+00</td>\n",
       "      <td>1.070000e+02</td>\n",
       "    </tr>\n",
       "    <tr>\n",
       "      <th>75%</th>\n",
       "      <td>2.018010e+07</td>\n",
       "      <td>4.100000e+01</td>\n",
       "      <td>1.000000e+00</td>\n",
       "      <td>1.000000e+00</td>\n",
       "      <td>0.000000e+00</td>\n",
       "      <td>2.260000e+02</td>\n",
       "    </tr>\n",
       "    <tr>\n",
       "      <th>max</th>\n",
       "      <td>2.018032e+07</td>\n",
       "      <td>6.280400e+04</td>\n",
       "      <td>9.695000e+03</td>\n",
       "      <td>7.837000e+03</td>\n",
       "      <td>7.962000e+03</td>\n",
       "      <td>1.760600e+04</td>\n",
       "    </tr>\n",
       "  </tbody>\n",
       "</table>\n",
       "</div>"
      ],
      "text/plain": [
       "          data_date   goods_click    cart_click  favorites_click  \\\n",
       "count  3.520159e+07  3.520159e+07  3.520159e+07     3.520159e+07   \n",
       "mean   2.017323e+07  8.163273e+01  3.240518e+00     1.709665e+00   \n",
       "std    4.054337e+03  3.859332e+02  2.150991e+01     7.565983e+00   \n",
       "min    2.017030e+07  1.000000e+00  0.000000e+00     0.000000e+00   \n",
       "25%    2.017073e+07  4.000000e+00  0.000000e+00     0.000000e+00   \n",
       "50%    2.017103e+07  1.200000e+01  0.000000e+00     0.000000e+00   \n",
       "75%    2.018010e+07  4.100000e+01  1.000000e+00     1.000000e+00   \n",
       "max    2.018032e+07  6.280400e+04  9.695000e+03     7.837000e+03   \n",
       "\n",
       "           sales_uv   onsale_days  \n",
       "count  3.520159e+07  3.520159e+07  \n",
       "mean   4.639567e-01  1.704799e+02  \n",
       "std    3.962768e+00  2.077281e+02  \n",
       "min    0.000000e+00  0.000000e+00  \n",
       "25%    0.000000e+00  4.300000e+01  \n",
       "50%    0.000000e+00  1.070000e+02  \n",
       "75%    0.000000e+00  2.260000e+02  \n",
       "max    7.962000e+03  1.760600e+04  "
      ]
     },
     "execution_count": 99,
     "metadata": {},
     "output_type": "execute_result"
    }
   ],
   "source": [
    "goodsdaily.describe()"
   ]
  },
  {
   "cell_type": "code",
   "execution_count": 100,
   "metadata": {},
   "outputs": [
    {
     "data": {
      "text/html": [
       "<div>\n",
       "<style scoped>\n",
       "    .dataframe tbody tr th:only-of-type {\n",
       "        vertical-align: middle;\n",
       "    }\n",
       "\n",
       "    .dataframe tbody tr th {\n",
       "        vertical-align: top;\n",
       "    }\n",
       "\n",
       "    .dataframe thead th {\n",
       "        text-align: right;\n",
       "    }\n",
       "</style>\n",
       "<table border=\"1\" class=\"dataframe\">\n",
       "  <thead>\n",
       "    <tr style=\"text-align: right;\">\n",
       "      <th></th>\n",
       "      <th>goods_id</th>\n",
       "    </tr>\n",
       "  </thead>\n",
       "  <tbody>\n",
       "    <tr>\n",
       "      <th>count</th>\n",
       "      <td>35201588</td>\n",
       "    </tr>\n",
       "    <tr>\n",
       "      <th>unique</th>\n",
       "      <td>423453</td>\n",
       "    </tr>\n",
       "    <tr>\n",
       "      <th>top</th>\n",
       "      <td>Gztqdk</td>\n",
       "    </tr>\n",
       "    <tr>\n",
       "      <th>freq</th>\n",
       "      <td>381</td>\n",
       "    </tr>\n",
       "  </tbody>\n",
       "</table>\n",
       "</div>"
      ],
      "text/plain": [
       "        goods_id\n",
       "count   35201588\n",
       "unique    423453\n",
       "top       Gztqdk\n",
       "freq         381"
      ]
     },
     "execution_count": 100,
     "metadata": {},
     "output_type": "execute_result"
    }
   ],
   "source": [
    "goodsdaily.describe(include=['O'])"
   ]
  },
  {
   "cell_type": "markdown",
   "metadata": {},
   "source": [
    "可以看出, 40w 的商品总共卖了3500多万次"
   ]
  },
  {
   "cell_type": "code",
   "execution_count": 101,
   "metadata": {},
   "outputs": [
    {
     "data": {
      "text/html": [
       "<div>\n",
       "<style scoped>\n",
       "    .dataframe tbody tr th:only-of-type {\n",
       "        vertical-align: middle;\n",
       "    }\n",
       "\n",
       "    .dataframe tbody tr th {\n",
       "        vertical-align: top;\n",
       "    }\n",
       "\n",
       "    .dataframe thead th {\n",
       "        text-align: right;\n",
       "    }\n",
       "</style>\n",
       "<table border=\"1\" class=\"dataframe\">\n",
       "  <thead>\n",
       "    <tr style=\"text-align: right;\">\n",
       "      <th></th>\n",
       "      <th>data_date</th>\n",
       "      <th>goods_click</th>\n",
       "      <th>cart_click</th>\n",
       "      <th>favorites_click</th>\n",
       "      <th>sales_uv</th>\n",
       "      <th>onsale_days</th>\n",
       "    </tr>\n",
       "  </thead>\n",
       "  <tbody>\n",
       "    <tr>\n",
       "      <th>0</th>\n",
       "      <td>20170301</td>\n",
       "      <td>4743177</td>\n",
       "      <td>161294</td>\n",
       "      <td>83795</td>\n",
       "      <td>25311</td>\n",
       "      <td>7769402</td>\n",
       "    </tr>\n",
       "    <tr>\n",
       "      <th>1</th>\n",
       "      <td>20170302</td>\n",
       "      <td>4519004</td>\n",
       "      <td>152657</td>\n",
       "      <td>81412</td>\n",
       "      <td>23590</td>\n",
       "      <td>7973204</td>\n",
       "    </tr>\n",
       "    <tr>\n",
       "      <th>2</th>\n",
       "      <td>20170303</td>\n",
       "      <td>4834336</td>\n",
       "      <td>161606</td>\n",
       "      <td>90559</td>\n",
       "      <td>23713</td>\n",
       "      <td>8019540</td>\n",
       "    </tr>\n",
       "    <tr>\n",
       "      <th>3</th>\n",
       "      <td>20170304</td>\n",
       "      <td>5148932</td>\n",
       "      <td>170897</td>\n",
       "      <td>98071</td>\n",
       "      <td>25839</td>\n",
       "      <td>7491376</td>\n",
       "    </tr>\n",
       "    <tr>\n",
       "      <th>4</th>\n",
       "      <td>20170305</td>\n",
       "      <td>4914224</td>\n",
       "      <td>163795</td>\n",
       "      <td>89276</td>\n",
       "      <td>25192</td>\n",
       "      <td>7359999</td>\n",
       "    </tr>\n",
       "  </tbody>\n",
       "</table>\n",
       "</div>"
      ],
      "text/plain": [
       "   data_date  goods_click  cart_click  favorites_click  sales_uv  onsale_days\n",
       "0   20170301      4743177      161294            83795     25311      7769402\n",
       "1   20170302      4519004      152657            81412     23590      7973204\n",
       "2   20170303      4834336      161606            90559     23713      8019540\n",
       "3   20170304      5148932      170897            98071     25839      7491376\n",
       "4   20170305      4914224      163795            89276     25192      7359999"
      ]
     },
     "execution_count": 101,
     "metadata": {},
     "output_type": "execute_result"
    }
   ],
   "source": [
    "# 按天分类, 每天商品销售情况: daily_sum\n",
    "daily_sum = goodsdaily.groupby('data_date', as_index=False).sum()\n",
    "daily_sum.head()"
   ]
  },
  {
   "cell_type": "code",
   "execution_count": 102,
   "metadata": {
    "scrolled": true
   },
   "outputs": [
    {
     "data": {
      "text/plain": [
       "<matplotlib.axes._subplots.AxesSubplot at 0x10e3f4080>"
      ]
     },
     "execution_count": 102,
     "metadata": {},
     "output_type": "execute_result"
    },
    {
     "data": {
      "image/png": "[encoded data removed]",
      "text/plain": [
       "<Figure size 1008x864 with 2 Axes>"
      ]
     },
     "metadata": {},
     "output_type": "display_data"
    }
   ],
   "source": [
    "# 看下每天商品销售情况各特征的相关性\n",
    "colormap = plt.cm.RdBu\n",
    "plt.figure(figsize=(14,12))\n",
    "plt.title('Pearson Correlation of Features', y=1.05, size=15)\n",
    "sns.heatmap(daily_sum.astype(float).corr(),linewidths=0.1,vmax=1.0, \n",
    "            square=True, cmap=colormap, linecolor='white', annot=True)"
   ]
  },
  {
   "cell_type": "markdown",
   "metadata": {},
   "source": [
    "加购和点击量差不多完全线性相关(.98), 而且和销量也基本线性相关(.93), 而收藏量由于延迟等原因没有那么相关(.81)"
   ]
  },
  {
   "cell_type": "code",
   "execution_count": 103,
   "metadata": {},
   "outputs": [],
   "source": [
    "# TODO: 整合出新 feature: popularity / user_interest"
   ]
  },
  {
   "cell_type": "code",
   "execution_count": 104,
   "metadata": {},
   "outputs": [
    {
     "name": "stdout",
     "output_type": "stream",
     "text": [
      "['data_date' 'goods_click' 'cart_click' 'favorites_click' 'sales_uv'\n",
      " 'onsale_days']\n"
     ]
    },
    {
     "data": {
      "text/plain": [
       "<matplotlib.collections.PathCollection at 0x1a7064a208>"
      ]
     },
     "execution_count": 104,
     "metadata": {},
     "output_type": "execute_result"
    },
    {
     "data": {
      "image/png": "[encoded data removed]",
      "text/plain": [
       "<Figure size 432x288 with 1 Axes>"
      ]
     },
     "metadata": {},
     "output_type": "display_data"
    }
   ],
   "source": [
    "print(daily_sum.columns.values)\n",
    "plt.scatter(daily_sum['data_date'] - 20170000, daily_sum['sales_uv'])"
   ]
  },
  {
   "cell_type": "code",
   "execution_count": 105,
   "metadata": {},
   "outputs": [
    {
     "data": {
      "text/plain": [
       "<matplotlib.collections.PathCollection at 0x1a71a41780>"
      ]
     },
     "execution_count": 105,
     "metadata": {},
     "output_type": "execute_result"
    },
    {
     "data": {
      "image/png": "[encoded data removed]",
      "text/plain": [
       "<Figure size 432x288 with 1 Axes>"
      ]
     },
     "metadata": {},
     "output_type": "display_data"
    }
   ],
   "source": [
    "# 挑几个月看下日销售情况\n",
    "first2mons_daily_sum = daily_sum[(20170500 < daily_sum['data_date']) & \\\n",
    "                                 (daily_sum['data_date'] < 20170700)]\n",
    "plt.scatter(first2mons_daily_sum['data_date'], first2mons_daily_sum['sales_uv'])"
   ]
  },
  {
   "cell_type": "code",
   "execution_count": 106,
   "metadata": {
    "scrolled": true
   },
   "outputs": [
    {
     "data": {
      "text/plain": [
       "<matplotlib.collections.PathCollection at 0x1a7b397d68>"
      ]
     },
     "execution_count": 106,
     "metadata": {},
     "output_type": "execute_result"
    },
    {
     "data": {
      "image/png": "[encoded data removed]",
      "text/plain": [
       "<Figure size 432x288 with 1 Axes>"
      ]
     },
     "metadata": {},
     "output_type": "display_data"
    }
   ],
   "source": [
    "first2mons_daily_sum = daily_sum[(20170300 < daily_sum['data_date']) & (daily_sum['data_date'] < 20170800)]\n",
    "plt.scatter(first2mons_daily_sum['data_date'], first2mons_daily_sum['sales_uv'])"
   ]
  },
  {
   "cell_type": "markdown",
   "metadata": {},
   "source": [
    "### goodsinfo 商品信息\n",
    "商品的一些属性: 类目, 季节属性, 品牌id"
   ]
  },
  {
   "cell_type": "code",
   "execution_count": 107,
   "metadata": {},
   "outputs": [
    {
     "data": {
      "text/html": [
       "<div>\n",
       "<style scoped>\n",
       "    .dataframe tbody tr th:only-of-type {\n",
       "        vertical-align: middle;\n",
       "    }\n",
       "\n",
       "    .dataframe tbody tr th {\n",
       "        vertical-align: top;\n",
       "    }\n",
       "\n",
       "    .dataframe thead th {\n",
       "        text-align: right;\n",
       "    }\n",
       "</style>\n",
       "<table border=\"1\" class=\"dataframe\">\n",
       "  <thead>\n",
       "    <tr style=\"text-align: right;\">\n",
       "      <th></th>\n",
       "      <th>cat_level1_id</th>\n",
       "      <th>cat_level2_id</th>\n",
       "      <th>cat_level3_id</th>\n",
       "      <th>cat_level4_id</th>\n",
       "      <th>cat_level5_id</th>\n",
       "      <th>cat_level6_id</th>\n",
       "      <th>cat_level7_id</th>\n",
       "      <th>goods_season</th>\n",
       "      <th>brand_id</th>\n",
       "    </tr>\n",
       "  </thead>\n",
       "  <tbody>\n",
       "    <tr>\n",
       "      <th>count</th>\n",
       "      <td>423452.000000</td>\n",
       "      <td>423452.000000</td>\n",
       "      <td>423452.000000</td>\n",
       "      <td>423452.000000</td>\n",
       "      <td>423452.000000</td>\n",
       "      <td>423452.0</td>\n",
       "      <td>423452.0</td>\n",
       "      <td>423452.000000</td>\n",
       "      <td>423452.000000</td>\n",
       "    </tr>\n",
       "    <tr>\n",
       "      <th>mean</th>\n",
       "      <td>584.135057</td>\n",
       "      <td>1936.813084</td>\n",
       "      <td>2561.146871</td>\n",
       "      <td>383.653496</td>\n",
       "      <td>28.033529</td>\n",
       "      <td>-1.0</td>\n",
       "      <td>-1.0</td>\n",
       "      <td>1.213679</td>\n",
       "      <td>483.439719</td>\n",
       "    </tr>\n",
       "    <tr>\n",
       "      <th>std</th>\n",
       "      <td>1206.801739</td>\n",
       "      <td>2289.516917</td>\n",
       "      <td>1832.745418</td>\n",
       "      <td>1170.068380</td>\n",
       "      <td>362.907817</td>\n",
       "      <td>0.0</td>\n",
       "      <td>0.0</td>\n",
       "      <td>1.385024</td>\n",
       "      <td>1270.265420</td>\n",
       "    </tr>\n",
       "    <tr>\n",
       "      <th>min</th>\n",
       "      <td>2.000000</td>\n",
       "      <td>-1.000000</td>\n",
       "      <td>-1.000000</td>\n",
       "      <td>-1.000000</td>\n",
       "      <td>-1.000000</td>\n",
       "      <td>-1.0</td>\n",
       "      <td>-1.0</td>\n",
       "      <td>0.000000</td>\n",
       "      <td>-1.000000</td>\n",
       "    </tr>\n",
       "    <tr>\n",
       "      <th>25%</th>\n",
       "      <td>2.000000</td>\n",
       "      <td>99.000000</td>\n",
       "      <td>666.000000</td>\n",
       "      <td>-1.000000</td>\n",
       "      <td>-1.000000</td>\n",
       "      <td>-1.0</td>\n",
       "      <td>-1.0</td>\n",
       "      <td>0.000000</td>\n",
       "      <td>0.000000</td>\n",
       "    </tr>\n",
       "    <tr>\n",
       "      <th>50%</th>\n",
       "      <td>59.000000</td>\n",
       "      <td>432.000000</td>\n",
       "      <td>2260.000000</td>\n",
       "      <td>-1.000000</td>\n",
       "      <td>-1.000000</td>\n",
       "      <td>-1.0</td>\n",
       "      <td>-1.0</td>\n",
       "      <td>0.000000</td>\n",
       "      <td>0.000000</td>\n",
       "    </tr>\n",
       "    <tr>\n",
       "      <th>75%</th>\n",
       "      <td>364.000000</td>\n",
       "      <td>3650.000000</td>\n",
       "      <td>4226.000000</td>\n",
       "      <td>-1.000000</td>\n",
       "      <td>-1.000000</td>\n",
       "      <td>-1.0</td>\n",
       "      <td>-1.0</td>\n",
       "      <td>2.000000</td>\n",
       "      <td>0.000000</td>\n",
       "    </tr>\n",
       "    <tr>\n",
       "      <th>max</th>\n",
       "      <td>5884.000000</td>\n",
       "      <td>6500.000000</td>\n",
       "      <td>6498.000000</td>\n",
       "      <td>6518.000000</td>\n",
       "      <td>6346.000000</td>\n",
       "      <td>-1.0</td>\n",
       "      <td>-1.0</td>\n",
       "      <td>10.000000</td>\n",
       "      <td>10146.000000</td>\n",
       "    </tr>\n",
       "  </tbody>\n",
       "</table>\n",
       "</div>"
      ],
      "text/plain": [
       "       cat_level1_id  cat_level2_id  cat_level3_id  cat_level4_id  \\\n",
       "count  423452.000000  423452.000000  423452.000000  423452.000000   \n",
       "mean      584.135057    1936.813084    2561.146871     383.653496   \n",
       "std      1206.801739    2289.516917    1832.745418    1170.068380   \n",
       "min         2.000000      -1.000000      -1.000000      -1.000000   \n",
       "25%         2.000000      99.000000     666.000000      -1.000000   \n",
       "50%        59.000000     432.000000    2260.000000      -1.000000   \n",
       "75%       364.000000    3650.000000    4226.000000      -1.000000   \n",
       "max      5884.000000    6500.000000    6498.000000    6518.000000   \n",
       "\n",
       "       cat_level5_id  cat_level6_id  cat_level7_id   goods_season  \\\n",
       "count  423452.000000       423452.0       423452.0  423452.000000   \n",
       "mean       28.033529           -1.0           -1.0       1.213679   \n",
       "std       362.907817            0.0            0.0       1.385024   \n",
       "min        -1.000000           -1.0           -1.0       0.000000   \n",
       "25%        -1.000000           -1.0           -1.0       0.000000   \n",
       "50%        -1.000000           -1.0           -1.0       0.000000   \n",
       "75%        -1.000000           -1.0           -1.0       2.000000   \n",
       "max      6346.000000           -1.0           -1.0      10.000000   \n",
       "\n",
       "            brand_id  \n",
       "count  423452.000000  \n",
       "mean      483.439719  \n",
       "std      1270.265420  \n",
       "min        -1.000000  \n",
       "25%         0.000000  \n",
       "50%         0.000000  \n",
       "75%         0.000000  \n",
       "max     10146.000000  "
      ]
     },
     "execution_count": 107,
     "metadata": {},
     "output_type": "execute_result"
    }
   ],
   "source": [
    "goodsinfo.describe()"
   ]
  },
  {
   "cell_type": "markdown",
   "metadata": {},
   "source": [
    "### goodssale 商品销售数据\n",
    "每日sku, 价格"
   ]
  },
  {
   "cell_type": "code",
   "execution_count": null,
   "metadata": {},
   "outputs": [],
   "source": []
  },
  {
   "cell_type": "markdown",
   "metadata": {},
   "source": [
    "### goods_sku_relation 商品 sku 映射表"
   ]
  },
  {
   "cell_type": "code",
   "execution_count": null,
   "metadata": {},
   "outputs": [],
   "source": []
  },
  {
   "cell_type": "markdown",
   "metadata": {},
   "source": [
    "### goods_promote_price 促销价\n",
    "加两列 start_time, end_time: 用来转换 promote_start_time, promote_end_time 成 int 型, 方便计算"
   ]
  },
  {
   "cell_type": "code",
   "execution_count": 78,
   "metadata": {},
   "outputs": [
    {
     "data": {
      "text/html": [
       "<div>\n",
       "<style scoped>\n",
       "    .dataframe tbody tr th:only-of-type {\n",
       "        vertical-align: middle;\n",
       "    }\n",
       "\n",
       "    .dataframe tbody tr th {\n",
       "        vertical-align: top;\n",
       "    }\n",
       "\n",
       "    .dataframe thead th {\n",
       "        text-align: right;\n",
       "    }\n",
       "</style>\n",
       "<table border=\"1\" class=\"dataframe\">\n",
       "  <thead>\n",
       "    <tr style=\"text-align: right;\">\n",
       "      <th></th>\n",
       "      <th>data_date</th>\n",
       "      <th>goods_id</th>\n",
       "      <th>shop_price</th>\n",
       "      <th>promote_price</th>\n",
       "      <th>promote_start_time</th>\n",
       "      <th>promote_end_time</th>\n",
       "      <th>is_promoted</th>\n",
       "      <th>start_time</th>\n",
       "      <th>end_time</th>\n",
       "    </tr>\n",
       "  </thead>\n",
       "  <tbody>\n",
       "    <tr>\n",
       "      <th>0</th>\n",
       "      <td>20180129</td>\n",
       "      <td>GBLrYn</td>\n",
       "      <td>289.00</td>\n",
       "      <td>0.0</td>\n",
       "      <td>1970-01-01 08:00:00</td>\n",
       "      <td>1970-01-01 08:00:00</td>\n",
       "      <td>0</td>\n",
       "      <td>19700101</td>\n",
       "      <td>19700101</td>\n",
       "    </tr>\n",
       "    <tr>\n",
       "      <th>1</th>\n",
       "      <td>20180129</td>\n",
       "      <td>GfrkEb</td>\n",
       "      <td>17.99</td>\n",
       "      <td>0.0</td>\n",
       "      <td>1970-01-01 08:00:00</td>\n",
       "      <td>1970-01-01 08:00:00</td>\n",
       "      <td>0</td>\n",
       "      <td>19700101</td>\n",
       "      <td>19700101</td>\n",
       "    </tr>\n",
       "    <tr>\n",
       "      <th>2</th>\n",
       "      <td>20180129</td>\n",
       "      <td>GD8pMl</td>\n",
       "      <td>412.00</td>\n",
       "      <td>0.0</td>\n",
       "      <td>1970-01-01 08:00:00</td>\n",
       "      <td>1970-01-01 08:00:00</td>\n",
       "      <td>0</td>\n",
       "      <td>19700101</td>\n",
       "      <td>19700101</td>\n",
       "    </tr>\n",
       "    <tr>\n",
       "      <th>3</th>\n",
       "      <td>20180129</td>\n",
       "      <td>Gfid4P</td>\n",
       "      <td>87.00</td>\n",
       "      <td>0.0</td>\n",
       "      <td>1970-01-01 08:00:00</td>\n",
       "      <td>1970-01-01 08:00:00</td>\n",
       "      <td>0</td>\n",
       "      <td>19700101</td>\n",
       "      <td>19700101</td>\n",
       "    </tr>\n",
       "    <tr>\n",
       "      <th>4</th>\n",
       "      <td>20180129</td>\n",
       "      <td>Gzjk0i</td>\n",
       "      <td>43.99</td>\n",
       "      <td>0.0</td>\n",
       "      <td>1970-01-01 08:00:00</td>\n",
       "      <td>1970-01-01 08:00:00</td>\n",
       "      <td>0</td>\n",
       "      <td>19700101</td>\n",
       "      <td>19700101</td>\n",
       "    </tr>\n",
       "  </tbody>\n",
       "</table>\n",
       "</div>"
      ],
      "text/plain": [
       "   data_date goods_id  shop_price  promote_price   promote_start_time  \\\n",
       "0   20180129   GBLrYn      289.00            0.0  1970-01-01 08:00:00   \n",
       "1   20180129   GfrkEb       17.99            0.0  1970-01-01 08:00:00   \n",
       "2   20180129   GD8pMl      412.00            0.0  1970-01-01 08:00:00   \n",
       "3   20180129   Gfid4P       87.00            0.0  1970-01-01 08:00:00   \n",
       "4   20180129   Gzjk0i       43.99            0.0  1970-01-01 08:00:00   \n",
       "\n",
       "      promote_end_time  is_promoted  start_time  end_time  \n",
       "0  1970-01-01 08:00:00            0    19700101  19700101  \n",
       "1  1970-01-01 08:00:00            0    19700101  19700101  \n",
       "2  1970-01-01 08:00:00            0    19700101  19700101  \n",
       "3  1970-01-01 08:00:00            0    19700101  19700101  \n",
       "4  1970-01-01 08:00:00            0    19700101  19700101  "
      ]
     },
     "execution_count": 78,
     "metadata": {},
     "output_type": "execute_result"
    }
   ],
   "source": [
    "goods_promote_price['start_time'] = goods_promote_price['promote_start_time'].apply(\n",
    "    lambda x: int(\"\".join(x.split(\" \")[0].split(\"-\"))))\n",
    "goods_promote_price['end_time'] = goods_promote_price['promote_end_time'].apply(\n",
    "    lambda x: int(\"\".join(x.split(\" \")[0].split(\"-\"))))\n",
    "goods_promote_price.head()"
   ]
  },
  {
   "cell_type": "code",
   "execution_count": 79,
   "metadata": {},
   "outputs": [
    {
     "data": {
      "text/html": [
       "<div>\n",
       "<style scoped>\n",
       "    .dataframe tbody tr th:only-of-type {\n",
       "        vertical-align: middle;\n",
       "    }\n",
       "\n",
       "    .dataframe tbody tr th {\n",
       "        vertical-align: top;\n",
       "    }\n",
       "\n",
       "    .dataframe thead th {\n",
       "        text-align: right;\n",
       "    }\n",
       "</style>\n",
       "<table border=\"1\" class=\"dataframe\">\n",
       "  <thead>\n",
       "    <tr style=\"text-align: right;\">\n",
       "      <th></th>\n",
       "      <th>data_date</th>\n",
       "      <th>shop_price</th>\n",
       "      <th>promote_price</th>\n",
       "      <th>is_promoted</th>\n",
       "      <th>start_time</th>\n",
       "      <th>end_time</th>\n",
       "    </tr>\n",
       "  </thead>\n",
       "  <tbody>\n",
       "    <tr>\n",
       "      <th>count</th>\n",
       "      <td>2.401643e+07</td>\n",
       "      <td>2.401643e+07</td>\n",
       "      <td>2.401643e+07</td>\n",
       "      <td>2.401643e+07</td>\n",
       "      <td>2.401643e+07</td>\n",
       "      <td>2.401643e+07</td>\n",
       "    </tr>\n",
       "    <tr>\n",
       "      <th>mean</th>\n",
       "      <td>2.018022e+07</td>\n",
       "      <td>3.837252e+01</td>\n",
       "      <td>7.274269e+00</td>\n",
       "      <td>3.636113e-01</td>\n",
       "      <td>1.987316e+07</td>\n",
       "      <td>1.987458e+07</td>\n",
       "    </tr>\n",
       "    <tr>\n",
       "      <th>std</th>\n",
       "      <td>6.789219e+01</td>\n",
       "      <td>5.922209e+01</td>\n",
       "      <td>1.518260e+01</td>\n",
       "      <td>4.810386e-01</td>\n",
       "      <td>2.287823e+05</td>\n",
       "      <td>2.306283e+05</td>\n",
       "    </tr>\n",
       "    <tr>\n",
       "      <th>min</th>\n",
       "      <td>2.018012e+07</td>\n",
       "      <td>0.000000e+00</td>\n",
       "      <td>0.000000e+00</td>\n",
       "      <td>0.000000e+00</td>\n",
       "      <td>1.970010e+07</td>\n",
       "      <td>1.970010e+07</td>\n",
       "    </tr>\n",
       "    <tr>\n",
       "      <th>25%</th>\n",
       "      <td>2.018013e+07</td>\n",
       "      <td>1.899000e+01</td>\n",
       "      <td>0.000000e+00</td>\n",
       "      <td>0.000000e+00</td>\n",
       "      <td>1.970010e+07</td>\n",
       "      <td>1.970010e+07</td>\n",
       "    </tr>\n",
       "    <tr>\n",
       "      <th>50%</th>\n",
       "      <td>2.018022e+07</td>\n",
       "      <td>2.999000e+01</td>\n",
       "      <td>0.000000e+00</td>\n",
       "      <td>0.000000e+00</td>\n",
       "      <td>1.970010e+07</td>\n",
       "      <td>1.970010e+07</td>\n",
       "    </tr>\n",
       "    <tr>\n",
       "      <th>75%</th>\n",
       "      <td>2.018030e+07</td>\n",
       "      <td>4.299000e+01</td>\n",
       "      <td>1.199000e+01</td>\n",
       "      <td>1.000000e+00</td>\n",
       "      <td>2.017122e+07</td>\n",
       "      <td>2.018021e+07</td>\n",
       "    </tr>\n",
       "    <tr>\n",
       "      <th>max</th>\n",
       "      <td>2.018032e+07</td>\n",
       "      <td>1.787700e+04</td>\n",
       "      <td>1.500000e+03</td>\n",
       "      <td>1.000000e+00</td>\n",
       "      <td>2.018032e+07</td>\n",
       "      <td>2.020123e+07</td>\n",
       "    </tr>\n",
       "  </tbody>\n",
       "</table>\n",
       "</div>"
      ],
      "text/plain": [
       "          data_date    shop_price  promote_price   is_promoted    start_time  \\\n",
       "count  2.401643e+07  2.401643e+07   2.401643e+07  2.401643e+07  2.401643e+07   \n",
       "mean   2.018022e+07  3.837252e+01   7.274269e+00  3.636113e-01  1.987316e+07   \n",
       "std    6.789219e+01  5.922209e+01   1.518260e+01  4.810386e-01  2.287823e+05   \n",
       "min    2.018012e+07  0.000000e+00   0.000000e+00  0.000000e+00  1.970010e+07   \n",
       "25%    2.018013e+07  1.899000e+01   0.000000e+00  0.000000e+00  1.970010e+07   \n",
       "50%    2.018022e+07  2.999000e+01   0.000000e+00  0.000000e+00  1.970010e+07   \n",
       "75%    2.018030e+07  4.299000e+01   1.199000e+01  1.000000e+00  2.017122e+07   \n",
       "max    2.018032e+07  1.787700e+04   1.500000e+03  1.000000e+00  2.018032e+07   \n",
       "\n",
       "           end_time  \n",
       "count  2.401643e+07  \n",
       "mean   1.987458e+07  \n",
       "std    2.306283e+05  \n",
       "min    1.970010e+07  \n",
       "25%    1.970010e+07  \n",
       "50%    1.970010e+07  \n",
       "75%    2.018021e+07  \n",
       "max    2.020123e+07  "
      ]
     },
     "execution_count": 79,
     "metadata": {},
     "output_type": "execute_result"
    }
   ],
   "source": [
    "goods_promote_price.describe()"
   ]
  },
  {
   "cell_type": "code",
   "execution_count": 80,
   "metadata": {},
   "outputs": [
    {
     "name": "stdout",
     "output_type": "stream",
     "text": [
      "<class 'pandas.core.frame.DataFrame'>\n",
      "RangeIndex: 24016430 entries, 0 to 24016429\n",
      "Data columns (total 9 columns):\n",
      "data_date             int64\n",
      "goods_id              object\n",
      "shop_price            float64\n",
      "promote_price         float64\n",
      "promote_start_time    object\n",
      "promote_end_time      object\n",
      "is_promoted           int64\n",
      "start_time            int64\n",
      "end_time              int64\n",
      "dtypes: float64(2), int64(4), object(3)\n",
      "memory usage: 1.6+ GB\n"
     ]
    }
   ],
   "source": [
    "goods_promote_price.info()"
   ]
  },
  {
   "cell_type": "code",
   "execution_count": 60,
   "metadata": {},
   "outputs": [
    {
     "data": {
      "text/html": [
       "<div>\n",
       "<style scoped>\n",
       "    .dataframe tbody tr th:only-of-type {\n",
       "        vertical-align: middle;\n",
       "    }\n",
       "\n",
       "    .dataframe tbody tr th {\n",
       "        vertical-align: top;\n",
       "    }\n",
       "\n",
       "    .dataframe thead th {\n",
       "        text-align: right;\n",
       "    }\n",
       "</style>\n",
       "<table border=\"1\" class=\"dataframe\">\n",
       "  <thead>\n",
       "    <tr style=\"text-align: right;\">\n",
       "      <th></th>\n",
       "      <th>data_date</th>\n",
       "      <th>goods_id</th>\n",
       "      <th>shop_price</th>\n",
       "      <th>promote_price</th>\n",
       "      <th>promote_start_time</th>\n",
       "      <th>promote_end_time</th>\n",
       "    </tr>\n",
       "  </thead>\n",
       "  <tbody>\n",
       "  </tbody>\n",
       "</table>\n",
       "</div>"
      ],
      "text/plain": [
       "Empty DataFrame\n",
       "Columns: [data_date, goods_id, shop_price, promote_price, promote_start_time, promote_end_time]\n",
       "Index: []"
      ]
     },
     "execution_count": 60,
     "metadata": {},
     "output_type": "execute_result"
    }
   ],
   "source": [
    "# 看有没有错误促销\n",
    "goods_promote_price[goods_promote_price['shop_price'] < goods_promote_price['promote_price']]"
   ]
  },
  {
   "cell_type": "markdown",
   "metadata": {},
   "source": [
    "不存在 标价<促销价, 还行"
   ]
  },
  {
   "cell_type": "code",
   "execution_count": 85,
   "metadata": {},
   "outputs": [],
   "source": [
    "# 加 is_promoted 列 表示是否为促销产品\n",
    "goods_promote_price['is_promoted'] = 0\n",
    "is_promoted = (goods_promote_price['promote_price'] > .0) & \\\n",
    "    (goods_promote_price['start_time'] < goods_promote_price['data_date']) & \\\n",
    "    (goods_promote_price['end_time'] > goods_promote_price['data_date'])\n",
    "\n",
    "goods_promote_price.loc[is_promoted, 'is_promoted'] = 1"
   ]
  },
  {
   "cell_type": "code",
   "execution_count": 88,
   "metadata": {},
   "outputs": [
    {
     "data": {
      "text/html": [
       "<div>\n",
       "<style scoped>\n",
       "    .dataframe tbody tr th:only-of-type {\n",
       "        vertical-align: middle;\n",
       "    }\n",
       "\n",
       "    .dataframe tbody tr th {\n",
       "        vertical-align: top;\n",
       "    }\n",
       "\n",
       "    .dataframe thead th {\n",
       "        text-align: right;\n",
       "    }\n",
       "</style>\n",
       "<table border=\"1\" class=\"dataframe\">\n",
       "  <thead>\n",
       "    <tr style=\"text-align: right;\">\n",
       "      <th></th>\n",
       "      <th>data_date</th>\n",
       "      <th>goods_id</th>\n",
       "      <th>shop_price</th>\n",
       "      <th>promote_price</th>\n",
       "      <th>promote_start_time</th>\n",
       "      <th>promote_end_time</th>\n",
       "      <th>is_promoted</th>\n",
       "      <th>start_time</th>\n",
       "      <th>end_time</th>\n",
       "    </tr>\n",
       "  </thead>\n",
       "  <tbody>\n",
       "    <tr>\n",
       "      <th>0</th>\n",
       "      <td>20180129</td>\n",
       "      <td>GBLrYn</td>\n",
       "      <td>289.00</td>\n",
       "      <td>0.0</td>\n",
       "      <td>1970-01-01 08:00:00</td>\n",
       "      <td>1970-01-01 08:00:00</td>\n",
       "      <td>0</td>\n",
       "      <td>19700101</td>\n",
       "      <td>19700101</td>\n",
       "    </tr>\n",
       "    <tr>\n",
       "      <th>1</th>\n",
       "      <td>20180129</td>\n",
       "      <td>GfrkEb</td>\n",
       "      <td>17.99</td>\n",
       "      <td>0.0</td>\n",
       "      <td>1970-01-01 08:00:00</td>\n",
       "      <td>1970-01-01 08:00:00</td>\n",
       "      <td>0</td>\n",
       "      <td>19700101</td>\n",
       "      <td>19700101</td>\n",
       "    </tr>\n",
       "    <tr>\n",
       "      <th>2</th>\n",
       "      <td>20180129</td>\n",
       "      <td>GD8pMl</td>\n",
       "      <td>412.00</td>\n",
       "      <td>0.0</td>\n",
       "      <td>1970-01-01 08:00:00</td>\n",
       "      <td>1970-01-01 08:00:00</td>\n",
       "      <td>0</td>\n",
       "      <td>19700101</td>\n",
       "      <td>19700101</td>\n",
       "    </tr>\n",
       "    <tr>\n",
       "      <th>3</th>\n",
       "      <td>20180129</td>\n",
       "      <td>Gfid4P</td>\n",
       "      <td>87.00</td>\n",
       "      <td>0.0</td>\n",
       "      <td>1970-01-01 08:00:00</td>\n",
       "      <td>1970-01-01 08:00:00</td>\n",
       "      <td>0</td>\n",
       "      <td>19700101</td>\n",
       "      <td>19700101</td>\n",
       "    </tr>\n",
       "    <tr>\n",
       "      <th>4</th>\n",
       "      <td>20180129</td>\n",
       "      <td>Gzjk0i</td>\n",
       "      <td>43.99</td>\n",
       "      <td>0.0</td>\n",
       "      <td>1970-01-01 08:00:00</td>\n",
       "      <td>1970-01-01 08:00:00</td>\n",
       "      <td>0</td>\n",
       "      <td>19700101</td>\n",
       "      <td>19700101</td>\n",
       "    </tr>\n",
       "  </tbody>\n",
       "</table>\n",
       "</div>"
      ],
      "text/plain": [
       "   data_date goods_id  shop_price  promote_price   promote_start_time  \\\n",
       "0   20180129   GBLrYn      289.00            0.0  1970-01-01 08:00:00   \n",
       "1   20180129   GfrkEb       17.99            0.0  1970-01-01 08:00:00   \n",
       "2   20180129   GD8pMl      412.00            0.0  1970-01-01 08:00:00   \n",
       "3   20180129   Gfid4P       87.00            0.0  1970-01-01 08:00:00   \n",
       "4   20180129   Gzjk0i       43.99            0.0  1970-01-01 08:00:00   \n",
       "\n",
       "      promote_end_time  is_promoted  start_time  end_time  \n",
       "0  1970-01-01 08:00:00            0    19700101  19700101  \n",
       "1  1970-01-01 08:00:00            0    19700101  19700101  \n",
       "2  1970-01-01 08:00:00            0    19700101  19700101  \n",
       "3  1970-01-01 08:00:00            0    19700101  19700101  \n",
       "4  1970-01-01 08:00:00            0    19700101  19700101  "
      ]
     },
     "execution_count": 88,
     "metadata": {},
     "output_type": "execute_result"
    }
   ],
   "source": [
    "goods_promote_price.head()"
   ]
  },
  {
   "cell_type": "markdown",
   "metadata": {},
   "source": [
    "现在用 goods_promote_price 这个表给 goods_id + data_date 查询就可以用 is_promoted 判断某个商品在某天是不是促销"
   ]
  },
  {
   "cell_type": "markdown",
   "metadata": {},
   "source": [
    "### marketing: 平台活动时间表\n",
    "活动类型, 节奏类型"
   ]
  },
  {
   "cell_type": "code",
   "execution_count": null,
   "metadata": {},
   "outputs": [],
   "source": []
  }
 ],
 "metadata": {
  "kernelspec": {
   "display_name": "Python 3",
   "language": "python",
   "name": "python3"
  },
  "language_info": {
   "codemirror_mode": {
    "name": "ipython",
    "version": 3
   },
   "file_extension": ".py",
   "mimetype": "text/x-python",
   "name": "python",
   "nbconvert_exporter": "python",
   "pygments_lexer": "ipython3",
   "version": "3.6.6"
  }
 },
 "nbformat": 4,
 "nbformat_minor": 1
}
