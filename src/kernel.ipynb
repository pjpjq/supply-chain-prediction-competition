{
 "cells": [
  {
   "cell_type": "code",
   "execution_count": null,
   "metadata": {
    "_cell_guid": "b1076dfc-b9ad-4769-8c92-a6c4dae69d19",
    "_uuid": "8f2839f25d086af736a60e9eeb907d3b93b6e0e5"
   },
   "outputs": [],
   "source": [
    "import os\n",
    "import itertools\n",
    "import time\n",
    "import json\n",
    "import tqdm\n",
    "\n",
    "import xgboost as xgb\n",
    "import matplotlib.pyplot as plt\n",
    "import seaborn as sns\n",
    "import pandas as pd\n",
    "import numpy as np\n",
    "from pathlib import Path\n",
    "# %matplotlib inline\n",
    "\n",
    "from sklearn.ensemble import (RandomForestClassifier, AdaBoostClassifier, \n",
    "                              GradientBoostingClassifier, ExtraTreesClassifier)\n",
    "from sklearn.model_selection import KFold, train_test_split\n",
    "\n",
    "# Feature scaling, required for non-tree-based models\n",
    "from sklearn.preprocessing import MinMaxScaler, StandardScaler\n",
    "from scipy.stats.mstats import winsorize\n",
    "\n",
    "# Encoding categorical data for non-tree-based models\n",
    "from sklearn.preprocessing import OneHotEncoder\n",
    "\n",
    "from fbprophet import Prophet\n",
    "\n",
    "from tqdm import tqdm as tqdm"
   ]
  },
  {
   "cell_type": "code",
   "execution_count": null,
   "metadata": {
    "_uuid": "f7338cd068596033d705a5f1aa3629a88a0fde9c"
   },
   "outputs": [],
   "source": [
    "!ls ../input"
   ]
  },
  {
   "cell_type": "code",
   "execution_count": null,
   "metadata": {
    "_cell_guid": "79c7e3d0-c299-4dcb-8224-4455121ee9b0",
    "_uuid": "d629ff2d2480ee46fbb7e2d37f6b5fab8052498a"
   },
   "outputs": [],
   "source": [
    "goodsale = pd.read_csv('../input/goodsale.csv', thousands=',')\n",
    "submitfile = pd.read_csv(\"../input/submit_example.csv\")\n",
    "# full_date = pd.read_csv(\"../input/full_date.csv\")"
   ]
  },
  {
   "cell_type": "code",
   "execution_count": null,
   "metadata": {
    "_uuid": "7e9521ba9c006e0d759121a91e4a09291a436de6"
   },
   "outputs": [],
   "source": [
    "##格式改为date_time\n",
    "goodsale[\"data_date\"] = goodsale.data_date.map(lambda data:str(data))\n",
    "goodsale[\"data_date\"] = pd.to_datetime(goodsale.data_date)"
   ]
  },
  {
   "cell_type": "code",
   "execution_count": null,
   "metadata": {
    "_uuid": "cc9b59334a5b06030048e86d0432ab0dee09cf53"
   },
   "outputs": [],
   "source": [
    "#Full Date Generate\n",
    "full_date = goodsale[['data_date']] #筛选date\n",
    "full_date = full_date.drop_duplicates() #去重\n",
    "full_date = full_date.sort_values(by = 'data_date') #排序\n",
    "full_date[\"data_date\"] = pd.to_datetime(full_date.data_date)\n",
    "full_date"
   ]
  },
  {
   "cell_type": "code",
   "execution_count": null,
   "metadata": {
    "_uuid": "6ac49daeed4922478c9e34f3e3bb6d76e3752eff"
   },
   "outputs": [],
   "source": [
    "# %%time\n",
    "#精简为11W 并\n",
    "sim_goodsale = submitfile.merge(goodsale, on = 'sku_id')\n",
    "sim_goodsale = sim_goodsale[['sku_id', 'data_date', 'goods_num']]"
   ]
  },
  {
   "cell_type": "code",
   "execution_count": null,
   "metadata": {
    "_uuid": "737b87058e72d25bb8c26f0d38644512fc62dac9"
   },
   "outputs": [],
   "source": [
    "sim_goodsale = sim_goodsale.sort_values(by = ['data_date'])"
   ]
  },
  {
   "cell_type": "code",
   "execution_count": null,
   "metadata": {
    "_uuid": "435b50ece6741a01876ae9f0e74e63af52d7064a"
   },
   "outputs": [],
   "source": [
    "sim_goodsale = sim_goodsale.rename(\n",
    "    columns={'data_date': 'ds', 'goods_num': 'y'})\n",
    "sim_goodsale"
   ]
  },
  {
   "cell_type": "code",
   "execution_count": null,
   "metadata": {
    "_uuid": "9c9c1d1f395edf27f5d1a2fada84147e50881708"
   },
   "outputs": [],
   "source": [
    "#分组\n",
    "#grouped_goodsale是分组并按date排序的全体390WDF\n",
    "grouped_goodsale = sim_goodsale.groupby(sim_goodsale['sku_id'])"
   ]
  },
  {
   "cell_type": "code",
   "execution_count": null,
   "metadata": {
    "_uuid": "ca84a56fa7bb13e9f510573fb89ecc64b1b30945"
   },
   "outputs": [],
   "source": [
    "full_date = full_date.rename(columns = {'data_date': 'ds'})"
   ]
  },
  {
   "cell_type": "code",
   "execution_count": null,
   "metadata": {
    "_uuid": "93bb2292aedd35d4e15abec491b453a92e428520"
   },
   "outputs": [],
   "source": [
    "def result_sum(item_forecast, sku_id):\n",
    "    week1 = item_forecast[(item_forecast['ds'] >= '2018-05-01') & (item_forecast['ds'] <= '2018-05-07')]\n",
    "    week1 = week1[['yhat']]\n",
    "    week1 = week1.apply(sum)\n",
    "    \n",
    "    week2 = item_forecast[(item_forecast['ds'] >= '2018-05-08') & (item_forecast['ds'] <= '2018-05-14')]\n",
    "    week2 = week2[['yhat']]\n",
    "    week2 = week2.apply(sum)\n",
    "    \n",
    "    week3 = item_forecast[(item_forecast['ds'] >= '2018-05-15') & (item_forecast['ds'] <= '2018-05-21')]\n",
    "    week3 = week3[['yhat']]\n",
    "    week3 = week3.apply(sum)\n",
    "    \n",
    "    week4 = item_forecast[(item_forecast['ds'] >= '2018-05-22') & (item_forecast['ds'] <= '2018-05-28')]\n",
    "    week4 = week4[['yhat']]\n",
    "    week4 = week4.apply(sum)\n",
    "    \n",
    "    week5 = item_forecast[(item_forecast['ds'] >= '2018-05-29') & (item_forecast['ds'] <= '2018-06-04')]\n",
    "    week5 = week5[['yhat']]\n",
    "    week5 = week5.apply(sum)\n",
    "    \n",
    "    d = {'sku_id': [sku_id], 'week1': [week1[0]], 'week2': [week2[0]], 'week3': [week3[0]],\n",
    "        'week4': [week4[0]], 'week5': [week5[0]]}\n",
    "    result_df = pd.DataFrame(data=d)\n",
    "    return result_df"
   ]
  },
  {
   "cell_type": "code",
   "execution_count": null,
   "metadata": {
    "_uuid": "0caf1875d9af3e488f763b8b7ed8f533c7ac9d71",
    "scrolled": true
   },
   "outputs": [],
   "source": [
    "# %%time\n",
    "st = 50000\n",
    "batch_size = 12\n",
    "# from joblib import Parallel, delayed\n",
    "# import multiprocessing\n",
    "\n",
    "# n_cores = multiprocessing.cpu_count()\n",
    "# list_submit = list(submitfile['sku_id'])[5:7]\n",
    "list_submit = list(submitfile['sku_id'])[st:st+batch_size]\n",
    "final_df = pd.DataFrame(columns=['sku_id', 'week1', 'week2', 'week3', 'week4', 'week5'])\n",
    "# forecasts = []\n",
    "for item in tqdm(list_submit):\n",
    "    item_df = grouped_goodsale.get_group(item).drop('sku_id', axis=1)\n",
    "    item_full_time_df = full_date.merge(item_df, how = 'outer')\n",
    "    item_full_time_df.fillna(0, inplace=True)\n",
    "\n",
    "    model = Prophet(weekly_seasonality=True, yearly_seasonality=True)\n",
    "    model.fit(item_full_time_df)\n",
    "    future = model.make_future_dataframe(periods=80)\n",
    "    forecast = model.predict(future)\n",
    "    final_df = pd.concat([final_df, result_sum(forecast, item)])\n",
    "#     return result_sum(forecast, item)\n",
    "\n",
    "# forecasts = Parallel(n_jobs=n_cores)(delayed(run)(item) for item in tqdm(list_submit))\n",
    "# for item in list_submit:\n",
    "#     run(item)\n",
    "#     final_df = pd.concat([final_df, run(item)])\n",
    "    \n",
    "# for forecast in tqdm(forecasts):\n",
    "#     final_df = pd.concat([final_df, forecast])\n",
    "csv_name = \"final_df_{}_{}.csv\".format(st, st+batch_size)\n",
    "final_df.to_csv(csv_name, index = False)\n",
    "final_df"
   ]
  }
 ],
 "metadata": {
  "kernelspec": {
   "display_name": "Python 3",
   "language": "python",
   "name": "python3"
  },
  "language_info": {
   "codemirror_mode": {
    "name": "ipython",
    "version": 3
   },
   "file_extension": ".py",
   "mimetype": "text/x-python",
   "name": "python",
   "nbconvert_exporter": "python",
   "pygments_lexer": "ipython3",
   "version": "3.6.6"
  },
  "toc": {
   "base_numbering": 1,
   "nav_menu": {},
   "number_sections": true,
   "sideBar": true,
   "skip_h1_title": false,
   "title_cell": "Table of Contents",
   "title_sidebar": "Contents",
   "toc_cell": false,
   "toc_position": {},
   "toc_section_display": true,
   "toc_window_display": true
  },
  "varInspector": {
   "cols": {
    "lenName": 16,
    "lenType": 16,
    "lenVar": 40
   },
   "kernels_config": {
    "python": {
     "delete_cmd_postfix": "",
     "delete_cmd_prefix": "del ",
     "library": "var_list.py",
     "varRefreshCmd": "print(var_dic_list())"
    },
    "r": {
     "delete_cmd_postfix": ") ",
     "delete_cmd_prefix": "rm(",
     "library": "var_list.r",
     "varRefreshCmd": "cat(var_dic_list()) "
    }
   },
   "types_to_exclude": [
    "module",
    "function",
    "builtin_function_or_method",
    "instance",
    "_Feature"
   ],
   "window_display": true
  }
 },
 "nbformat": 4,
 "nbformat_minor": 1
}
