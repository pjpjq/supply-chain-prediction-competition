{
 "cells": [
  {
   "cell_type": "code",
   "execution_count": 1,
   "metadata": {
    "ExecuteTime": {
     "end_time": "2018-10-12T12:46:24.129219Z",
     "start_time": "2018-10-12T12:46:21.956492Z"
    }
   },
   "outputs": [],
   "source": [
    "import datetime\n",
    "import itertools\n",
    "import json\n",
    "import os\n",
    "import time\n",
    "from collections import defaultdict\n",
    "from pathlib import Path\n",
    "\n",
    "import matplotlib.pyplot as plt\n",
    "import numpy as np\n",
    "import pandas as pd\n",
    "import seaborn as sns\n",
    "import xgboost as xgb\n",
    "from pandas import Series\n",
    "from scipy.stats.mstats import winsorize\n",
    "from sklearn.ensemble import (AdaBoostClassifier, ExtraTreesClassifier,\n",
    "                              GradientBoostingClassifier,\n",
    "                              RandomForestClassifier)\n",
    "from sklearn.model_selection import KFold, train_test_split\n",
    "from sklearn.preprocessing import MinMaxScaler, OneHotEncoder, StandardScaler\n",
    "from statsmodels.tsa.arima_model import ARIMA\n",
    "from tqdm import tqdm\n",
    "\n",
    "import warnings\n",
    "warnings.filterwarnings(\"ignore\")\n",
    "\n",
    "%matplotlib inline\n",
    "sns.set()"
   ]
  },
  {
   "cell_type": "markdown",
   "metadata": {},
   "source": [
    "## Feature Exploration, Engineering and Cleaning"
   ]
  },
  {
   "cell_type": "markdown",
   "metadata": {},
   "source": [
    "### Load Datasets"
   ]
  },
  {
   "cell_type": "code",
   "execution_count": 2,
   "metadata": {
    "ExecuteTime": {
     "end_time": "2018-10-12T12:47:05.283451Z",
     "start_time": "2018-10-12T12:46:24.132230Z"
    },
    "slideshow": {
     "slide_type": "-"
    }
   },
   "outputs": [
    {
     "name": "stdout",
     "output_type": "stream",
     "text": [
      "CPU times: user 11.7 s, sys: 10.1 s, total: 21.8 s\n",
      "Wall time: 41.1 s\n"
     ]
    }
   ],
   "source": [
    "%%time \n",
    "\n",
    "# Load datasets 好慢啊 \n",
    "# TODO: 封装到load_datasets.py 里作为一个函数\n",
    "low_memory = False\n",
    "use_feather = True  # 用硬盘换时间\n",
    "\n",
    "goods_promote_price_path = '../datasets/goods_promote_price.csv'\n",
    "goods_sku_relation_path = '../datasets/goods_sku_relation.csv'\n",
    "goodsale_path = '../datasets/goodsale.csv'\n",
    "goodsdaily_path = '../datasets/goodsdaily.csv'\n",
    "marketing_path = '../datasets/marketing.csv'\n",
    "goodsinfo_path = '../datasets/goodsinfo.csv'\n",
    "\n",
    "goods_promote_price_feather = '../datasets/feathers/goods_promote_price.feather'\n",
    "goods_sku_relation_feather = '../datasets/feathers/goods_sku_relation.feather'\n",
    "goodsale_feather = '../datasets/feathers/goodsale.feather'\n",
    "goodsdaily_feather = '../datasets/feathers/goodsdaily.feather'\n",
    "marketing_feather = '../datasets/feathers/marketing.feather'\n",
    "goodsinfo_feather = '../datasets/feathers/goodsinfo.feather'\n",
    "\n",
    "all_feathers_exist = (Path(goods_promote_price_feather).exists() and\n",
    "                      Path(goods_sku_relation_feather).exists() and\n",
    "                      Path(goodsale_feather).exists() and\n",
    "                      Path(goodsdaily_feather).exists() and\n",
    "                      Path(marketing_feather).exists() and\n",
    "                      Path(goodsinfo_feather).exists())\n",
    "\n",
    "if use_feather and all_feathers_exist:\n",
    "    goods_promote_price = pd.read_feather(goods_promote_price_feather)\n",
    "    goods_sku_relation = pd.read_feather(goods_sku_relation_feather)\n",
    "    goodsale = pd.read_feather(goodsale_feather)\n",
    "    goodsdaily = pd.read_feather(goodsdaily_feather)\n",
    "    marketing = pd.read_feather(marketing_feather)\n",
    "    goodsinfo = pd.read_feather(goodsinfo_feather)\n",
    "else:\n",
    "    goods_promote_price = pd.read_csv(goods_promote_price_path, low_memory=low_memory, thousands=',')\n",
    "    goods_sku_relation = pd.read_csv(goods_sku_relation_path, low_memory=low_memory, thousands=',')\n",
    "    goodsale = pd.read_csv(goodsale_path, low_memory=low_memory, thousands=',')\n",
    "    goodsdaily = pd.read_csv(goodsdaily_path, low_memory=low_memory, thousands=',')\n",
    "    marketing = pd.read_csv(marketing_path, low_memory=low_memory, thousands=',')\n",
    "    goodsinfo = pd.read_csv(goodsinfo_path, low_memory=low_memory, thousands=',')\n",
    "    # Save DataFrames to feathers\n",
    "    goods_promote_price.to_feather(goods_promote_price_feather)\n",
    "    goods_sku_relation.to_feather(goods_sku_relation_feather)\n",
    "    goodsale.to_feather(goodsale_feather)\n",
    "    goodsdaily.to_feather(goodsdaily_feather)\n",
    "    marketing.to_feather(marketing_feather)\n",
    "    goodsinfo.to_feather(goodsinfo_feather)"
   ]
  },
  {
   "cell_type": "code",
   "execution_count": 3,
   "metadata": {
    "ExecuteTime": {
     "end_time": "2018-10-12T12:47:05.424716Z",
     "start_time": "2018-10-12T12:47:05.287121Z"
    }
   },
   "outputs": [],
   "source": [
    "submission_example = pd.read_csv('../submissions/submit_example.csv')"
   ]
  },
  {
   "cell_type": "code",
   "execution_count": null,
   "metadata": {
    "ExecuteTime": {
     "start_time": "2018-10-12T12:46:21.962Z"
    }
   },
   "outputs": [
    {
     "name": "stderr",
     "output_type": "stream",
     "text": [
      "100%|██████████| 2/2 [00:02<00:00,  1.20s/it]\n",
      "[Parallel(n_jobs=2)]: Using backend ThreadingBackend with 2 concurrent workers.\n"
     ]
    }
   ],
   "source": [
    "# 一个均值submission\n",
    "mean_result = pd.merge(goodsale, submission_example, how='inner', on=['sku_id'])\n",
    "X = mean_result.copy()\n",
    "y = X[\"sku_id\"]\n",
    "X.drop(\"sku_id\", axis=1)\n",
    "for col in tqdm(X.columns[X.dtypes==\"object\"]):\n",
    "    X[col] = X[col].factorize()[0]\n",
    "\n",
    "rf = RandomForestClassifier(verbose=True, n_jobs=2)\n",
    "rf.fit(X, y)\n",
    "\n",
    "# ... groupby(sku_id).mean()\n",
    "mean_submission = pd.DataFrame({\n",
    "    # 'sku_id': #...`\n",
    "    # '...' : ...\n",
    "})\n",
    "\n",
    "mean_submission.to_csv('../submissions/mean_submission.csv')"
   ]
  },
  {
   "cell_type": "code",
   "execution_count": null,
   "metadata": {},
   "outputs": [],
   "source": []
  },
  {
   "cell_type": "code",
   "execution_count": 5,
   "metadata": {
    "ExecuteTime": {
     "end_time": "2018-10-12T10:14:36.610847Z",
     "start_time": "2018-10-12T10:14:36.606430Z"
    }
   },
   "outputs": [],
   "source": [
    "# X_all = np.random.randn(5000, 1)\n",
    "# y_all = (X_all[:, 0] > 0)*2 - 1\n",
    "\n",
    "# X_train, X_test, y_train, y_test = train_test_split(\n",
    "#     X_all, y_all, test_size=0.5, random_state=42)"
   ]
  },
  {
   "cell_type": "markdown",
   "metadata": {},
   "source": [
    "### goodsdaily 商品在用户层日常表现"
   ]
  },
  {
   "cell_type": "code",
   "execution_count": 6,
   "metadata": {
    "ExecuteTime": {
     "end_time": "2018-10-12T10:14:36.643172Z",
     "start_time": "2018-10-12T10:14:36.613288Z"
    },
    "scrolled": true
   },
   "outputs": [
    {
     "data": {
      "text/html": [
       "<div>\n",
       "<style scoped>\n",
       "    .dataframe tbody tr th:only-of-type {\n",
       "        vertical-align: middle;\n",
       "    }\n",
       "\n",
       "    .dataframe tbody tr th {\n",
       "        vertical-align: top;\n",
       "    }\n",
       "\n",
       "    .dataframe thead th {\n",
       "        text-align: right;\n",
       "    }\n",
       "</style>\n",
       "<table border=\"1\" class=\"dataframe\">\n",
       "  <thead>\n",
       "    <tr style=\"text-align: right;\">\n",
       "      <th></th>\n",
       "      <th>data_date</th>\n",
       "      <th>goods_id</th>\n",
       "      <th>goods_click</th>\n",
       "      <th>cart_click</th>\n",
       "      <th>favorites_click</th>\n",
       "      <th>sales_uv</th>\n",
       "      <th>onsale_days</th>\n",
       "    </tr>\n",
       "  </thead>\n",
       "  <tbody>\n",
       "    <tr>\n",
       "      <th>0</th>\n",
       "      <td>20170823</td>\n",
       "      <td>G8OeZY</td>\n",
       "      <td>72</td>\n",
       "      <td>2</td>\n",
       "      <td>3</td>\n",
       "      <td>0</td>\n",
       "      <td>6</td>\n",
       "    </tr>\n",
       "    <tr>\n",
       "      <th>1</th>\n",
       "      <td>20170823</td>\n",
       "      <td>Gjytr2</td>\n",
       "      <td>96</td>\n",
       "      <td>0</td>\n",
       "      <td>1</td>\n",
       "      <td>0</td>\n",
       "      <td>336</td>\n",
       "    </tr>\n",
       "    <tr>\n",
       "      <th>2</th>\n",
       "      <td>20170823</td>\n",
       "      <td>GR0SgC</td>\n",
       "      <td>15</td>\n",
       "      <td>0</td>\n",
       "      <td>0</td>\n",
       "      <td>0</td>\n",
       "      <td>98</td>\n",
       "    </tr>\n",
       "    <tr>\n",
       "      <th>3</th>\n",
       "      <td>20170823</td>\n",
       "      <td>GMkqxN</td>\n",
       "      <td>9</td>\n",
       "      <td>0</td>\n",
       "      <td>0</td>\n",
       "      <td>0</td>\n",
       "      <td>13</td>\n",
       "    </tr>\n",
       "    <tr>\n",
       "      <th>4</th>\n",
       "      <td>20170823</td>\n",
       "      <td>GuRXYe</td>\n",
       "      <td>538</td>\n",
       "      <td>5</td>\n",
       "      <td>9</td>\n",
       "      <td>2</td>\n",
       "      <td>69</td>\n",
       "    </tr>\n",
       "  </tbody>\n",
       "</table>\n",
       "</div>"
      ],
      "text/plain": [
       "   data_date goods_id  goods_click  cart_click  favorites_click  sales_uv  \\\n",
       "0   20170823   G8OeZY           72           2                3         0   \n",
       "1   20170823   Gjytr2           96           0                1         0   \n",
       "2   20170823   GR0SgC           15           0                0         0   \n",
       "3   20170823   GMkqxN            9           0                0         0   \n",
       "4   20170823   GuRXYe          538           5                9         2   \n",
       "\n",
       "   onsale_days  \n",
       "0            6  \n",
       "1          336  \n",
       "2           98  \n",
       "3           13  \n",
       "4           69  "
      ]
     },
     "execution_count": 6,
     "metadata": {},
     "output_type": "execute_result"
    }
   ],
   "source": [
    "goodsdaily.head(5)"
   ]
  },
  {
   "cell_type": "code",
   "execution_count": 7,
   "metadata": {
    "ExecuteTime": {
     "end_time": "2018-10-12T10:14:36.665080Z",
     "start_time": "2018-10-12T10:14:36.651899Z"
    }
   },
   "outputs": [
    {
     "name": "stdout",
     "output_type": "stream",
     "text": [
      "<class 'pandas.core.frame.DataFrame'>\n",
      "RangeIndex: 35201588 entries, 0 to 35201587\n",
      "Data columns (total 7 columns):\n",
      "data_date          int64\n",
      "goods_id           object\n",
      "goods_click        int64\n",
      "cart_click         int64\n",
      "favorites_click    int64\n",
      "sales_uv           int64\n",
      "onsale_days        int64\n",
      "dtypes: int64(6), object(1)\n",
      "memory usage: 1.8+ GB\n"
     ]
    }
   ],
   "source": [
    "goodsdaily.info()"
   ]
  },
  {
   "cell_type": "code",
   "execution_count": 8,
   "metadata": {
    "ExecuteTime": {
     "end_time": "2018-10-12T10:15:14.938734Z",
     "start_time": "2018-10-12T10:14:36.667267Z"
    }
   },
   "outputs": [
    {
     "data": {
      "text/html": [
       "<div>\n",
       "<style scoped>\n",
       "    .dataframe tbody tr th:only-of-type {\n",
       "        vertical-align: middle;\n",
       "    }\n",
       "\n",
       "    .dataframe tbody tr th {\n",
       "        vertical-align: top;\n",
       "    }\n",
       "\n",
       "    .dataframe thead th {\n",
       "        text-align: right;\n",
       "    }\n",
       "</style>\n",
       "<table border=\"1\" class=\"dataframe\">\n",
       "  <thead>\n",
       "    <tr style=\"text-align: right;\">\n",
       "      <th></th>\n",
       "      <th>data_date</th>\n",
       "      <th>goods_id</th>\n",
       "      <th>goods_click</th>\n",
       "      <th>cart_click</th>\n",
       "      <th>favorites_click</th>\n",
       "      <th>sales_uv</th>\n",
       "      <th>onsale_days</th>\n",
       "    </tr>\n",
       "  </thead>\n",
       "  <tbody>\n",
       "    <tr>\n",
       "      <th>count</th>\n",
       "      <td>3.520159e+07</td>\n",
       "      <td>35201588</td>\n",
       "      <td>3.520159e+07</td>\n",
       "      <td>3.520159e+07</td>\n",
       "      <td>3.520159e+07</td>\n",
       "      <td>3.520159e+07</td>\n",
       "      <td>3.520159e+07</td>\n",
       "    </tr>\n",
       "    <tr>\n",
       "      <th>unique</th>\n",
       "      <td>NaN</td>\n",
       "      <td>423453</td>\n",
       "      <td>NaN</td>\n",
       "      <td>NaN</td>\n",
       "      <td>NaN</td>\n",
       "      <td>NaN</td>\n",
       "      <td>NaN</td>\n",
       "    </tr>\n",
       "    <tr>\n",
       "      <th>top</th>\n",
       "      <td>NaN</td>\n",
       "      <td>GFWoQ5</td>\n",
       "      <td>NaN</td>\n",
       "      <td>NaN</td>\n",
       "      <td>NaN</td>\n",
       "      <td>NaN</td>\n",
       "      <td>NaN</td>\n",
       "    </tr>\n",
       "    <tr>\n",
       "      <th>freq</th>\n",
       "      <td>NaN</td>\n",
       "      <td>381</td>\n",
       "      <td>NaN</td>\n",
       "      <td>NaN</td>\n",
       "      <td>NaN</td>\n",
       "      <td>NaN</td>\n",
       "      <td>NaN</td>\n",
       "    </tr>\n",
       "    <tr>\n",
       "      <th>mean</th>\n",
       "      <td>2.017323e+07</td>\n",
       "      <td>NaN</td>\n",
       "      <td>8.163273e+01</td>\n",
       "      <td>3.240518e+00</td>\n",
       "      <td>1.709665e+00</td>\n",
       "      <td>4.639567e-01</td>\n",
       "      <td>1.704799e+02</td>\n",
       "    </tr>\n",
       "    <tr>\n",
       "      <th>std</th>\n",
       "      <td>4.054337e+03</td>\n",
       "      <td>NaN</td>\n",
       "      <td>3.859332e+02</td>\n",
       "      <td>2.150991e+01</td>\n",
       "      <td>7.565983e+00</td>\n",
       "      <td>3.962768e+00</td>\n",
       "      <td>2.077281e+02</td>\n",
       "    </tr>\n",
       "    <tr>\n",
       "      <th>min</th>\n",
       "      <td>2.017030e+07</td>\n",
       "      <td>NaN</td>\n",
       "      <td>1.000000e+00</td>\n",
       "      <td>0.000000e+00</td>\n",
       "      <td>0.000000e+00</td>\n",
       "      <td>0.000000e+00</td>\n",
       "      <td>0.000000e+00</td>\n",
       "    </tr>\n",
       "    <tr>\n",
       "      <th>25%</th>\n",
       "      <td>2.017073e+07</td>\n",
       "      <td>NaN</td>\n",
       "      <td>4.000000e+00</td>\n",
       "      <td>0.000000e+00</td>\n",
       "      <td>0.000000e+00</td>\n",
       "      <td>0.000000e+00</td>\n",
       "      <td>4.300000e+01</td>\n",
       "    </tr>\n",
       "    <tr>\n",
       "      <th>50%</th>\n",
       "      <td>2.017103e+07</td>\n",
       "      <td>NaN</td>\n",
       "      <td>1.200000e+01</td>\n",
       "      <td>0.000000e+00</td>\n",
       "      <td>0.000000e+00</td>\n",
       "      <td>0.000000e+00</td>\n",
       "      <td>1.070000e+02</td>\n",
       "    </tr>\n",
       "    <tr>\n",
       "      <th>75%</th>\n",
       "      <td>2.018010e+07</td>\n",
       "      <td>NaN</td>\n",
       "      <td>4.100000e+01</td>\n",
       "      <td>1.000000e+00</td>\n",
       "      <td>1.000000e+00</td>\n",
       "      <td>0.000000e+00</td>\n",
       "      <td>2.260000e+02</td>\n",
       "    </tr>\n",
       "    <tr>\n",
       "      <th>max</th>\n",
       "      <td>2.018032e+07</td>\n",
       "      <td>NaN</td>\n",
       "      <td>6.280400e+04</td>\n",
       "      <td>9.695000e+03</td>\n",
       "      <td>7.837000e+03</td>\n",
       "      <td>7.962000e+03</td>\n",
       "      <td>1.760600e+04</td>\n",
       "    </tr>\n",
       "  </tbody>\n",
       "</table>\n",
       "</div>"
      ],
      "text/plain": [
       "           data_date  goods_id   goods_click    cart_click  favorites_click  \\\n",
       "count   3.520159e+07  35201588  3.520159e+07  3.520159e+07     3.520159e+07   \n",
       "unique           NaN    423453           NaN           NaN              NaN   \n",
       "top              NaN    GFWoQ5           NaN           NaN              NaN   \n",
       "freq             NaN       381           NaN           NaN              NaN   \n",
       "mean    2.017323e+07       NaN  8.163273e+01  3.240518e+00     1.709665e+00   \n",
       "std     4.054337e+03       NaN  3.859332e+02  2.150991e+01     7.565983e+00   \n",
       "min     2.017030e+07       NaN  1.000000e+00  0.000000e+00     0.000000e+00   \n",
       "25%     2.017073e+07       NaN  4.000000e+00  0.000000e+00     0.000000e+00   \n",
       "50%     2.017103e+07       NaN  1.200000e+01  0.000000e+00     0.000000e+00   \n",
       "75%     2.018010e+07       NaN  4.100000e+01  1.000000e+00     1.000000e+00   \n",
       "max     2.018032e+07       NaN  6.280400e+04  9.695000e+03     7.837000e+03   \n",
       "\n",
       "            sales_uv   onsale_days  \n",
       "count   3.520159e+07  3.520159e+07  \n",
       "unique           NaN           NaN  \n",
       "top              NaN           NaN  \n",
       "freq             NaN           NaN  \n",
       "mean    4.639567e-01  1.704799e+02  \n",
       "std     3.962768e+00  2.077281e+02  \n",
       "min     0.000000e+00  0.000000e+00  \n",
       "25%     0.000000e+00  4.300000e+01  \n",
       "50%     0.000000e+00  1.070000e+02  \n",
       "75%     0.000000e+00  2.260000e+02  \n",
       "max     7.962000e+03  1.760600e+04  "
      ]
     },
     "execution_count": 8,
     "metadata": {},
     "output_type": "execute_result"
    }
   ],
   "source": [
    "goodsdaily.describe(include='all')"
   ]
  },
  {
   "cell_type": "markdown",
   "metadata": {},
   "source": [
    "可以看出, 40w 的商品总共卖了3500多万次"
   ]
  },
  {
   "cell_type": "code",
   "execution_count": 9,
   "metadata": {
    "ExecuteTime": {
     "end_time": "2018-10-12T10:15:23.240787Z",
     "start_time": "2018-10-12T10:15:14.943721Z"
    }
   },
   "outputs": [
    {
     "data": {
      "text/html": [
       "<div>\n",
       "<style scoped>\n",
       "    .dataframe tbody tr th:only-of-type {\n",
       "        vertical-align: middle;\n",
       "    }\n",
       "\n",
       "    .dataframe tbody tr th {\n",
       "        vertical-align: top;\n",
       "    }\n",
       "\n",
       "    .dataframe thead th {\n",
       "        text-align: right;\n",
       "    }\n",
       "</style>\n",
       "<table border=\"1\" class=\"dataframe\">\n",
       "  <thead>\n",
       "    <tr style=\"text-align: right;\">\n",
       "      <th></th>\n",
       "      <th>data_date</th>\n",
       "      <th>goods_click</th>\n",
       "      <th>cart_click</th>\n",
       "      <th>favorites_click</th>\n",
       "      <th>sales_uv</th>\n",
       "      <th>onsale_days</th>\n",
       "    </tr>\n",
       "  </thead>\n",
       "  <tbody>\n",
       "    <tr>\n",
       "      <th>0</th>\n",
       "      <td>20170301</td>\n",
       "      <td>4743177</td>\n",
       "      <td>161294</td>\n",
       "      <td>83795</td>\n",
       "      <td>25311</td>\n",
       "      <td>7769402</td>\n",
       "    </tr>\n",
       "    <tr>\n",
       "      <th>1</th>\n",
       "      <td>20170302</td>\n",
       "      <td>4519004</td>\n",
       "      <td>152657</td>\n",
       "      <td>81412</td>\n",
       "      <td>23590</td>\n",
       "      <td>7973204</td>\n",
       "    </tr>\n",
       "    <tr>\n",
       "      <th>2</th>\n",
       "      <td>20170303</td>\n",
       "      <td>4834336</td>\n",
       "      <td>161606</td>\n",
       "      <td>90559</td>\n",
       "      <td>23713</td>\n",
       "      <td>8019540</td>\n",
       "    </tr>\n",
       "    <tr>\n",
       "      <th>3</th>\n",
       "      <td>20170304</td>\n",
       "      <td>5148932</td>\n",
       "      <td>170897</td>\n",
       "      <td>98071</td>\n",
       "      <td>25839</td>\n",
       "      <td>7491376</td>\n",
       "    </tr>\n",
       "    <tr>\n",
       "      <th>4</th>\n",
       "      <td>20170305</td>\n",
       "      <td>4914224</td>\n",
       "      <td>163795</td>\n",
       "      <td>89276</td>\n",
       "      <td>25192</td>\n",
       "      <td>7359999</td>\n",
       "    </tr>\n",
       "  </tbody>\n",
       "</table>\n",
       "</div>"
      ],
      "text/plain": [
       "   data_date  goods_click  cart_click  favorites_click  sales_uv  onsale_days\n",
       "0   20170301      4743177      161294            83795     25311      7769402\n",
       "1   20170302      4519004      152657            81412     23590      7973204\n",
       "2   20170303      4834336      161606            90559     23713      8019540\n",
       "3   20170304      5148932      170897            98071     25839      7491376\n",
       "4   20170305      4914224      163795            89276     25192      7359999"
      ]
     },
     "execution_count": 9,
     "metadata": {},
     "output_type": "execute_result"
    }
   ],
   "source": [
    "# 按天分类, 每天商品销售情况: daily_sum\n",
    "daily_sum = goodsdaily.groupby('data_date', as_index=False).sum()\n",
    "daily_sum.head()"
   ]
  },
  {
   "cell_type": "code",
   "execution_count": 10,
   "metadata": {
    "ExecuteTime": {
     "end_time": "2018-10-12T10:15:23.879854Z",
     "start_time": "2018-10-12T10:15:23.243016Z"
    },
    "scrolled": true
   },
   "outputs": [
    {
     "data": {
      "text/plain": [
       "<matplotlib.axes._subplots.AxesSubplot at 0x1e0c2e93c8>"
      ]
     },
     "execution_count": 10,
     "metadata": {},
     "output_type": "execute_result"
    },
    {
     "data": {
      "image/png": "[encoded data removed]",
      "text/plain": [
       "<Figure size 1008x864 with 2 Axes>"
      ]
     },
     "metadata": {
      "needs_background": "light"
     },
     "output_type": "display_data"
    }
   ],
   "source": [
    "# 看下每天商品销售情况各特征的相关性\n",
    "colormap = plt.cm.RdBu\n",
    "plt.figure(figsize=(14,12))\n",
    "plt.title('Pearson Correlation of Features', y=1.05, size=15)\n",
    "sns.heatmap(daily_sum.astype(float).corr(),linewidths=0.1,vmax=1.0, \n",
    "            square=True, cmap=colormap, linecolor='white', annot=True)"
   ]
  },
  {
   "cell_type": "markdown",
   "metadata": {},
   "source": [
    "加购和点击量差不多完全线性相关(.98), 而且和销量也基本线性相关(.93), 而收藏量由于延迟等原因没有那么相关(.81)"
   ]
  },
  {
   "cell_type": "code",
   "execution_count": 11,
   "metadata": {
    "ExecuteTime": {
     "end_time": "2018-10-12T10:15:23.889912Z",
     "start_time": "2018-10-12T10:15:23.886022Z"
    }
   },
   "outputs": [],
   "source": [
    "# TODO: 整合出新 feature: popularity 或者说 user_interest"
   ]
  },
  {
   "cell_type": "code",
   "execution_count": 12,
   "metadata": {
    "ExecuteTime": {
     "end_time": "2018-10-12T10:15:24.064885Z",
     "start_time": "2018-10-12T10:15:23.894933Z"
    }
   },
   "outputs": [
    {
     "name": "stdout",
     "output_type": "stream",
     "text": [
      "['data_date' 'goods_click' 'cart_click' 'favorites_click' 'sales_uv'\n",
      " 'onsale_days']\n"
     ]
    },
    {
     "data": {
      "text/plain": [
       "<matplotlib.collections.PathCollection at 0x1e070b9048>"
      ]
     },
     "execution_count": 12,
     "metadata": {},
     "output_type": "execute_result"
    },
    {
     "data": {
      "image/png": "[encoded data removed]",
      "text/plain": [
       "<Figure size 432x288 with 1 Axes>"
      ]
     },
     "metadata": {
      "needs_background": "light"
     },
     "output_type": "display_data"
    }
   ],
   "source": [
    "print(daily_sum.columns.values)\n",
    "plt.scatter(daily_sum['data_date'] - 20180000, daily_sum['sales_uv'])"
   ]
  },
  {
   "cell_type": "code",
   "execution_count": 13,
   "metadata": {
    "ExecuteTime": {
     "end_time": "2018-10-12T10:15:24.370916Z",
     "start_time": "2018-10-12T10:15:24.067466Z"
    }
   },
   "outputs": [
    {
     "data": {
      "text/plain": [
       "<matplotlib.collections.PathCollection at 0x1e06e7fac8>"
      ]
     },
     "execution_count": 13,
     "metadata": {},
     "output_type": "execute_result"
    },
    {
     "data": {
      "image/png": "[encoded data removed]",
      "text/plain": [
       "<Figure size 432x288 with 1 Axes>"
      ]
     },
     "metadata": {
      "needs_background": "light"
     },
     "output_type": "display_data"
    }
   ],
   "source": [
    "# 挑几个月看下日销售情况\n",
    "first2mons_daily_sum = daily_sum[(20180200 < daily_sum['data_date']) & \\\n",
    "                                 (daily_sum['data_date'] < 20180300)]\n",
    "plt.scatter(first2mons_daily_sum['data_date'], first2mons_daily_sum['sales_uv'])"
   ]
  },
  {
   "cell_type": "code",
   "execution_count": 14,
   "metadata": {
    "ExecuteTime": {
     "end_time": "2018-10-12T10:15:24.510004Z",
     "start_time": "2018-10-12T10:15:24.372937Z"
    },
    "scrolled": true
   },
   "outputs": [
    {
     "data": {
      "text/plain": [
       "<matplotlib.collections.PathCollection at 0x1e07550320>"
      ]
     },
     "execution_count": 14,
     "metadata": {},
     "output_type": "execute_result"
    },
    {
     "data": {
      "image/png": "[encoded data removed]",
      "text/plain": [
       "<Figure size 432x288 with 1 Axes>"
      ]
     },
     "metadata": {
      "needs_background": "light"
     },
     "output_type": "display_data"
    }
   ],
   "source": [
    "first2mons_daily_sum = daily_sum[(20170300 < daily_sum['data_date']) & \\\n",
    "                                 (daily_sum['data_date'] < 20170800)]\n",
    "plt.scatter(first2mons_daily_sum['data_date'], first2mons_daily_sum['sales_uv'])"
   ]
  },
  {
   "cell_type": "markdown",
   "metadata": {},
   "source": [
    "### goodsinfo 商品信息\n",
    "商品的一些属性: 类目, 季节属性, 品牌id"
   ]
  },
  {
   "cell_type": "code",
   "execution_count": 15,
   "metadata": {
    "ExecuteTime": {
     "end_time": "2018-10-12T10:15:25.228014Z",
     "start_time": "2018-10-12T10:15:24.511904Z"
    }
   },
   "outputs": [
    {
     "data": {
      "text/html": [
       "<div>\n",
       "<style scoped>\n",
       "    .dataframe tbody tr th:only-of-type {\n",
       "        vertical-align: middle;\n",
       "    }\n",
       "\n",
       "    .dataframe tbody tr th {\n",
       "        vertical-align: top;\n",
       "    }\n",
       "\n",
       "    .dataframe thead th {\n",
       "        text-align: right;\n",
       "    }\n",
       "</style>\n",
       "<table border=\"1\" class=\"dataframe\">\n",
       "  <thead>\n",
       "    <tr style=\"text-align: right;\">\n",
       "      <th></th>\n",
       "      <th>goods_id</th>\n",
       "      <th>cat_level1_id</th>\n",
       "      <th>cat_level2_id</th>\n",
       "      <th>cat_level3_id</th>\n",
       "      <th>cat_level4_id</th>\n",
       "      <th>cat_level5_id</th>\n",
       "      <th>cat_level6_id</th>\n",
       "      <th>cat_level7_id</th>\n",
       "      <th>goods_season</th>\n",
       "      <th>brand_id</th>\n",
       "    </tr>\n",
       "  </thead>\n",
       "  <tbody>\n",
       "    <tr>\n",
       "      <th>count</th>\n",
       "      <td>423452</td>\n",
       "      <td>423452.000000</td>\n",
       "      <td>423452.000000</td>\n",
       "      <td>423452.000000</td>\n",
       "      <td>423452.000000</td>\n",
       "      <td>423452.000000</td>\n",
       "      <td>423452.0</td>\n",
       "      <td>423452.0</td>\n",
       "      <td>423452.000000</td>\n",
       "      <td>423452.000000</td>\n",
       "    </tr>\n",
       "    <tr>\n",
       "      <th>unique</th>\n",
       "      <td>423452</td>\n",
       "      <td>NaN</td>\n",
       "      <td>NaN</td>\n",
       "      <td>NaN</td>\n",
       "      <td>NaN</td>\n",
       "      <td>NaN</td>\n",
       "      <td>NaN</td>\n",
       "      <td>NaN</td>\n",
       "      <td>NaN</td>\n",
       "      <td>NaN</td>\n",
       "    </tr>\n",
       "    <tr>\n",
       "      <th>top</th>\n",
       "      <td>Gtgxfz</td>\n",
       "      <td>NaN</td>\n",
       "      <td>NaN</td>\n",
       "      <td>NaN</td>\n",
       "      <td>NaN</td>\n",
       "      <td>NaN</td>\n",
       "      <td>NaN</td>\n",
       "      <td>NaN</td>\n",
       "      <td>NaN</td>\n",
       "      <td>NaN</td>\n",
       "    </tr>\n",
       "    <tr>\n",
       "      <th>freq</th>\n",
       "      <td>1</td>\n",
       "      <td>NaN</td>\n",
       "      <td>NaN</td>\n",
       "      <td>NaN</td>\n",
       "      <td>NaN</td>\n",
       "      <td>NaN</td>\n",
       "      <td>NaN</td>\n",
       "      <td>NaN</td>\n",
       "      <td>NaN</td>\n",
       "      <td>NaN</td>\n",
       "    </tr>\n",
       "    <tr>\n",
       "      <th>mean</th>\n",
       "      <td>NaN</td>\n",
       "      <td>584.135057</td>\n",
       "      <td>1936.813084</td>\n",
       "      <td>2561.146871</td>\n",
       "      <td>383.653496</td>\n",
       "      <td>28.033529</td>\n",
       "      <td>-1.0</td>\n",
       "      <td>-1.0</td>\n",
       "      <td>1.213679</td>\n",
       "      <td>483.439719</td>\n",
       "    </tr>\n",
       "    <tr>\n",
       "      <th>std</th>\n",
       "      <td>NaN</td>\n",
       "      <td>1206.801739</td>\n",
       "      <td>2289.516917</td>\n",
       "      <td>1832.745418</td>\n",
       "      <td>1170.068380</td>\n",
       "      <td>362.907817</td>\n",
       "      <td>0.0</td>\n",
       "      <td>0.0</td>\n",
       "      <td>1.385024</td>\n",
       "      <td>1270.265420</td>\n",
       "    </tr>\n",
       "    <tr>\n",
       "      <th>min</th>\n",
       "      <td>NaN</td>\n",
       "      <td>2.000000</td>\n",
       "      <td>-1.000000</td>\n",
       "      <td>-1.000000</td>\n",
       "      <td>-1.000000</td>\n",
       "      <td>-1.000000</td>\n",
       "      <td>-1.0</td>\n",
       "      <td>-1.0</td>\n",
       "      <td>0.000000</td>\n",
       "      <td>-1.000000</td>\n",
       "    </tr>\n",
       "    <tr>\n",
       "      <th>25%</th>\n",
       "      <td>NaN</td>\n",
       "      <td>2.000000</td>\n",
       "      <td>99.000000</td>\n",
       "      <td>666.000000</td>\n",
       "      <td>-1.000000</td>\n",
       "      <td>-1.000000</td>\n",
       "      <td>-1.0</td>\n",
       "      <td>-1.0</td>\n",
       "      <td>0.000000</td>\n",
       "      <td>0.000000</td>\n",
       "    </tr>\n",
       "    <tr>\n",
       "      <th>50%</th>\n",
       "      <td>NaN</td>\n",
       "      <td>59.000000</td>\n",
       "      <td>432.000000</td>\n",
       "      <td>2260.000000</td>\n",
       "      <td>-1.000000</td>\n",
       "      <td>-1.000000</td>\n",
       "      <td>-1.0</td>\n",
       "      <td>-1.0</td>\n",
       "      <td>0.000000</td>\n",
       "      <td>0.000000</td>\n",
       "    </tr>\n",
       "    <tr>\n",
       "      <th>75%</th>\n",
       "      <td>NaN</td>\n",
       "      <td>364.000000</td>\n",
       "      <td>3650.000000</td>\n",
       "      <td>4226.000000</td>\n",
       "      <td>-1.000000</td>\n",
       "      <td>-1.000000</td>\n",
       "      <td>-1.0</td>\n",
       "      <td>-1.0</td>\n",
       "      <td>2.000000</td>\n",
       "      <td>0.000000</td>\n",
       "    </tr>\n",
       "    <tr>\n",
       "      <th>max</th>\n",
       "      <td>NaN</td>\n",
       "      <td>5884.000000</td>\n",
       "      <td>6500.000000</td>\n",
       "      <td>6498.000000</td>\n",
       "      <td>6518.000000</td>\n",
       "      <td>6346.000000</td>\n",
       "      <td>-1.0</td>\n",
       "      <td>-1.0</td>\n",
       "      <td>10.000000</td>\n",
       "      <td>10146.000000</td>\n",
       "    </tr>\n",
       "  </tbody>\n",
       "</table>\n",
       "</div>"
      ],
      "text/plain": [
       "       goods_id  cat_level1_id  cat_level2_id  cat_level3_id  cat_level4_id  \\\n",
       "count    423452  423452.000000  423452.000000  423452.000000  423452.000000   \n",
       "unique   423452            NaN            NaN            NaN            NaN   \n",
       "top      Gtgxfz            NaN            NaN            NaN            NaN   \n",
       "freq          1            NaN            NaN            NaN            NaN   \n",
       "mean        NaN     584.135057    1936.813084    2561.146871     383.653496   \n",
       "std         NaN    1206.801739    2289.516917    1832.745418    1170.068380   \n",
       "min         NaN       2.000000      -1.000000      -1.000000      -1.000000   \n",
       "25%         NaN       2.000000      99.000000     666.000000      -1.000000   \n",
       "50%         NaN      59.000000     432.000000    2260.000000      -1.000000   \n",
       "75%         NaN     364.000000    3650.000000    4226.000000      -1.000000   \n",
       "max         NaN    5884.000000    6500.000000    6498.000000    6518.000000   \n",
       "\n",
       "        cat_level5_id  cat_level6_id  cat_level7_id   goods_season  \\\n",
       "count   423452.000000       423452.0       423452.0  423452.000000   \n",
       "unique            NaN            NaN            NaN            NaN   \n",
       "top               NaN            NaN            NaN            NaN   \n",
       "freq              NaN            NaN            NaN            NaN   \n",
       "mean        28.033529           -1.0           -1.0       1.213679   \n",
       "std        362.907817            0.0            0.0       1.385024   \n",
       "min         -1.000000           -1.0           -1.0       0.000000   \n",
       "25%         -1.000000           -1.0           -1.0       0.000000   \n",
       "50%         -1.000000           -1.0           -1.0       0.000000   \n",
       "75%         -1.000000           -1.0           -1.0       2.000000   \n",
       "max       6346.000000           -1.0           -1.0      10.000000   \n",
       "\n",
       "             brand_id  \n",
       "count   423452.000000  \n",
       "unique            NaN  \n",
       "top               NaN  \n",
       "freq              NaN  \n",
       "mean       483.439719  \n",
       "std       1270.265420  \n",
       "min         -1.000000  \n",
       "25%          0.000000  \n",
       "50%          0.000000  \n",
       "75%          0.000000  \n",
       "max      10146.000000  "
      ]
     },
     "execution_count": 15,
     "metadata": {},
     "output_type": "execute_result"
    }
   ],
   "source": [
    "goodsinfo.describe(include='all')"
   ]
  },
  {
   "cell_type": "code",
   "execution_count": 16,
   "metadata": {
    "ExecuteTime": {
     "end_time": "2018-10-12T10:15:25.318588Z",
     "start_time": "2018-10-12T10:15:25.229811Z"
    }
   },
   "outputs": [
    {
     "name": "stdout",
     "output_type": "stream",
     "text": [
      "<class 'pandas.core.frame.DataFrame'>\n",
      "RangeIndex: 423452 entries, 0 to 423451\n",
      "Data columns (total 10 columns):\n",
      "goods_id         423452 non-null object\n",
      "cat_level1_id    423452 non-null int64\n",
      "cat_level2_id    423452 non-null int64\n",
      "cat_level3_id    423452 non-null int64\n",
      "cat_level4_id    423452 non-null int64\n",
      "cat_level5_id    423452 non-null int64\n",
      "cat_level6_id    423452 non-null int64\n",
      "cat_level7_id    423452 non-null int64\n",
      "goods_season     423452 non-null int64\n",
      "brand_id         423452 non-null int64\n",
      "dtypes: int64(9), object(1)\n",
      "memory usage: 32.3+ MB\n"
     ]
    }
   ],
   "source": [
    "goodsinfo.info()"
   ]
  },
  {
   "cell_type": "markdown",
   "metadata": {},
   "source": [
    "### goodsale 商品销售数据\n",
    "每日sku, 价格"
   ]
  },
  {
   "cell_type": "code",
   "execution_count": 17,
   "metadata": {
    "ExecuteTime": {
     "end_time": "2018-10-12T10:15:25.328058Z",
     "start_time": "2018-10-12T10:15:25.321420Z"
    }
   },
   "outputs": [
    {
     "name": "stdout",
     "output_type": "stream",
     "text": [
      "<class 'pandas.core.frame.DataFrame'>\n",
      "RangeIndex: 7325028 entries, 0 to 7325027\n",
      "Data columns (total 6 columns):\n",
      "data_date             int64\n",
      "goods_id              object\n",
      "sku_id                object\n",
      "goods_num             int64\n",
      "goods_price           float64\n",
      "orginal_shop_price    float64\n",
      "dtypes: float64(2), int64(2), object(2)\n",
      "memory usage: 335.3+ MB\n"
     ]
    }
   ],
   "source": [
    "goodsale.info()"
   ]
  },
  {
   "cell_type": "code",
   "execution_count": 18,
   "metadata": {
    "ExecuteTime": {
     "end_time": "2018-10-12T10:15:34.655190Z",
     "start_time": "2018-10-12T10:15:25.330618Z"
    }
   },
   "outputs": [
    {
     "data": {
      "text/html": [
       "<div>\n",
       "<style scoped>\n",
       "    .dataframe tbody tr th:only-of-type {\n",
       "        vertical-align: middle;\n",
       "    }\n",
       "\n",
       "    .dataframe tbody tr th {\n",
       "        vertical-align: top;\n",
       "    }\n",
       "\n",
       "    .dataframe thead th {\n",
       "        text-align: right;\n",
       "    }\n",
       "</style>\n",
       "<table border=\"1\" class=\"dataframe\">\n",
       "  <thead>\n",
       "    <tr style=\"text-align: right;\">\n",
       "      <th></th>\n",
       "      <th>data_date</th>\n",
       "      <th>goods_id</th>\n",
       "      <th>sku_id</th>\n",
       "      <th>goods_num</th>\n",
       "      <th>goods_price</th>\n",
       "      <th>orginal_shop_price</th>\n",
       "    </tr>\n",
       "  </thead>\n",
       "  <tbody>\n",
       "    <tr>\n",
       "      <th>count</th>\n",
       "      <td>7.325028e+06</td>\n",
       "      <td>7325028</td>\n",
       "      <td>7325028</td>\n",
       "      <td>7.325028e+06</td>\n",
       "      <td>7.325028e+06</td>\n",
       "      <td>7.325028e+06</td>\n",
       "    </tr>\n",
       "    <tr>\n",
       "      <th>unique</th>\n",
       "      <td>NaN</td>\n",
       "      <td>195498</td>\n",
       "      <td>630742</td>\n",
       "      <td>NaN</td>\n",
       "      <td>NaN</td>\n",
       "      <td>NaN</td>\n",
       "    </tr>\n",
       "    <tr>\n",
       "      <th>top</th>\n",
       "      <td>NaN</td>\n",
       "      <td>G9tnlg</td>\n",
       "      <td>SKJCqIoN</td>\n",
       "      <td>NaN</td>\n",
       "      <td>NaN</td>\n",
       "      <td>NaN</td>\n",
       "    </tr>\n",
       "    <tr>\n",
       "      <th>freq</th>\n",
       "      <td>NaN</td>\n",
       "      <td>4905</td>\n",
       "      <td>381</td>\n",
       "      <td>NaN</td>\n",
       "      <td>NaN</td>\n",
       "      <td>NaN</td>\n",
       "    </tr>\n",
       "    <tr>\n",
       "      <th>mean</th>\n",
       "      <td>2.017244e+07</td>\n",
       "      <td>NaN</td>\n",
       "      <td>NaN</td>\n",
       "      <td>2.227298e+00</td>\n",
       "      <td>1.252557e+01</td>\n",
       "      <td>2.004515e+01</td>\n",
       "    </tr>\n",
       "    <tr>\n",
       "      <th>std</th>\n",
       "      <td>3.533716e+03</td>\n",
       "      <td>NaN</td>\n",
       "      <td>NaN</td>\n",
       "      <td>5.272697e+00</td>\n",
       "      <td>1.014520e+01</td>\n",
       "      <td>1.447311e+01</td>\n",
       "    </tr>\n",
       "    <tr>\n",
       "      <th>min</th>\n",
       "      <td>2.017030e+07</td>\n",
       "      <td>NaN</td>\n",
       "      <td>NaN</td>\n",
       "      <td>1.000000e+00</td>\n",
       "      <td>0.000000e+00</td>\n",
       "      <td>0.000000e+00</td>\n",
       "    </tr>\n",
       "    <tr>\n",
       "      <th>25%</th>\n",
       "      <td>2.017062e+07</td>\n",
       "      <td>NaN</td>\n",
       "      <td>NaN</td>\n",
       "      <td>1.000000e+00</td>\n",
       "      <td>5.990000e+00</td>\n",
       "      <td>1.099000e+01</td>\n",
       "    </tr>\n",
       "    <tr>\n",
       "      <th>50%</th>\n",
       "      <td>2.017101e+07</td>\n",
       "      <td>NaN</td>\n",
       "      <td>NaN</td>\n",
       "      <td>1.000000e+00</td>\n",
       "      <td>9.990000e+00</td>\n",
       "      <td>1.699000e+01</td>\n",
       "    </tr>\n",
       "    <tr>\n",
       "      <th>75%</th>\n",
       "      <td>2.017121e+07</td>\n",
       "      <td>NaN</td>\n",
       "      <td>NaN</td>\n",
       "      <td>2.000000e+00</td>\n",
       "      <td>1.599000e+01</td>\n",
       "      <td>2.599000e+01</td>\n",
       "    </tr>\n",
       "    <tr>\n",
       "      <th>max</th>\n",
       "      <td>2.018032e+07</td>\n",
       "      <td>NaN</td>\n",
       "      <td>NaN</td>\n",
       "      <td>2.157000e+03</td>\n",
       "      <td>1.332000e+03</td>\n",
       "      <td>1.332000e+03</td>\n",
       "    </tr>\n",
       "  </tbody>\n",
       "</table>\n",
       "</div>"
      ],
      "text/plain": [
       "           data_date goods_id    sku_id     goods_num   goods_price  \\\n",
       "count   7.325028e+06  7325028   7325028  7.325028e+06  7.325028e+06   \n",
       "unique           NaN   195498    630742           NaN           NaN   \n",
       "top              NaN   G9tnlg  SKJCqIoN           NaN           NaN   \n",
       "freq             NaN     4905       381           NaN           NaN   \n",
       "mean    2.017244e+07      NaN       NaN  2.227298e+00  1.252557e+01   \n",
       "std     3.533716e+03      NaN       NaN  5.272697e+00  1.014520e+01   \n",
       "min     2.017030e+07      NaN       NaN  1.000000e+00  0.000000e+00   \n",
       "25%     2.017062e+07      NaN       NaN  1.000000e+00  5.990000e+00   \n",
       "50%     2.017101e+07      NaN       NaN  1.000000e+00  9.990000e+00   \n",
       "75%     2.017121e+07      NaN       NaN  2.000000e+00  1.599000e+01   \n",
       "max     2.018032e+07      NaN       NaN  2.157000e+03  1.332000e+03   \n",
       "\n",
       "        orginal_shop_price  \n",
       "count         7.325028e+06  \n",
       "unique                 NaN  \n",
       "top                    NaN  \n",
       "freq                   NaN  \n",
       "mean          2.004515e+01  \n",
       "std           1.447311e+01  \n",
       "min           0.000000e+00  \n",
       "25%           1.099000e+01  \n",
       "50%           1.699000e+01  \n",
       "75%           2.599000e+01  \n",
       "max           1.332000e+03  "
      ]
     },
     "execution_count": 18,
     "metadata": {},
     "output_type": "execute_result"
    }
   ],
   "source": [
    "goodsale.describe(include='all')"
   ]
  },
  {
   "cell_type": "code",
   "execution_count": null,
   "metadata": {},
   "outputs": [],
   "source": []
  },
  {
   "cell_type": "markdown",
   "metadata": {},
   "source": [
    "### goods_sku_relation (纯 map, 没有预测意义)\n",
    "总共 320w 不同的 sku, 42w 不同的商品"
   ]
  },
  {
   "cell_type": "code",
   "execution_count": 19,
   "metadata": {
    "ExecuteTime": {
     "end_time": "2018-10-12T10:15:42.497008Z",
     "start_time": "2018-10-12T10:15:34.657018Z"
    }
   },
   "outputs": [
    {
     "data": {
      "text/html": [
       "<div>\n",
       "<style scoped>\n",
       "    .dataframe tbody tr th:only-of-type {\n",
       "        vertical-align: middle;\n",
       "    }\n",
       "\n",
       "    .dataframe tbody tr th {\n",
       "        vertical-align: top;\n",
       "    }\n",
       "\n",
       "    .dataframe thead th {\n",
       "        text-align: right;\n",
       "    }\n",
       "</style>\n",
       "<table border=\"1\" class=\"dataframe\">\n",
       "  <thead>\n",
       "    <tr style=\"text-align: right;\">\n",
       "      <th></th>\n",
       "      <th>sku_id</th>\n",
       "      <th>goods_id</th>\n",
       "    </tr>\n",
       "  </thead>\n",
       "  <tbody>\n",
       "    <tr>\n",
       "      <th>count</th>\n",
       "      <td>3245170</td>\n",
       "      <td>3245170</td>\n",
       "    </tr>\n",
       "    <tr>\n",
       "      <th>unique</th>\n",
       "      <td>3245170</td>\n",
       "      <td>423453</td>\n",
       "    </tr>\n",
       "    <tr>\n",
       "      <th>top</th>\n",
       "      <td>SKa5p4To</td>\n",
       "      <td>GAnJO3</td>\n",
       "    </tr>\n",
       "    <tr>\n",
       "      <th>freq</th>\n",
       "      <td>1</td>\n",
       "      <td>266</td>\n",
       "    </tr>\n",
       "  </tbody>\n",
       "</table>\n",
       "</div>"
      ],
      "text/plain": [
       "          sku_id goods_id\n",
       "count    3245170  3245170\n",
       "unique   3245170   423453\n",
       "top     SKa5p4To   GAnJO3\n",
       "freq           1      266"
      ]
     },
     "execution_count": 19,
     "metadata": {},
     "output_type": "execute_result"
    }
   ],
   "source": [
    "goods_sku_relation.describe(include='all')"
   ]
  },
  {
   "cell_type": "code",
   "execution_count": null,
   "metadata": {},
   "outputs": [],
   "source": []
  },
  {
   "cell_type": "markdown",
   "metadata": {},
   "source": [
    "### goods_promote_price 促销价\n",
    "加两列 start_time, end_time: 用来转换 promote_start_time, promote_end_time 成 int 型, 方便计算"
   ]
  },
  {
   "cell_type": "code",
   "execution_count": 20,
   "metadata": {
    "ExecuteTime": {
     "end_time": "2018-10-12T10:16:43.793335Z",
     "start_time": "2018-10-12T10:15:42.499166Z"
    }
   },
   "outputs": [
    {
     "name": "stdout",
     "output_type": "stream",
     "text": [
      "CPU times: user 49.4 s, sys: 6.97 s, total: 56.4 s\n",
      "Wall time: 1min 1s\n"
     ]
    }
   ],
   "source": [
    "%%time\n",
    "# tqdm.pandas()\n",
    "if 'start_time' not in goods_promote_price.columns:\n",
    "    goods_promote_price['start_time'] = goods_promote_price['promote_start_time'].apply(\n",
    "        lambda x: int(\"\".join(x.split(\" \")[0].split(\"-\"))))\n",
    "\n",
    "if 'end_time' not in goods_promote_price.columns:\n",
    "    goods_promote_price['end_time'] = goods_promote_price['promote_end_time'].apply(\n",
    "        lambda x: int(\"\".join(x.split(\" \")[0].split(\"-\"))))\n",
    "\n",
    "goods_promote_price.head()"
   ]
  },
  {
   "cell_type": "code",
   "execution_count": 21,
   "metadata": {
    "ExecuteTime": {
     "end_time": "2018-10-12T10:17:16.883030Z",
     "start_time": "2018-10-12T10:16:43.798588Z"
    }
   },
   "outputs": [
    {
     "name": "stdout",
     "output_type": "stream",
     "text": [
      "CPU times: user 23 s, sys: 6.26 s, total: 29.3 s\n",
      "Wall time: 33.1 s\n"
     ]
    },
    {
     "data": {
      "text/html": [
       "<div>\n",
       "<style scoped>\n",
       "    .dataframe tbody tr th:only-of-type {\n",
       "        vertical-align: middle;\n",
       "    }\n",
       "\n",
       "    .dataframe tbody tr th {\n",
       "        vertical-align: top;\n",
       "    }\n",
       "\n",
       "    .dataframe thead th {\n",
       "        text-align: right;\n",
       "    }\n",
       "</style>\n",
       "<table border=\"1\" class=\"dataframe\">\n",
       "  <thead>\n",
       "    <tr style=\"text-align: right;\">\n",
       "      <th></th>\n",
       "      <th>data_date</th>\n",
       "      <th>goods_id</th>\n",
       "      <th>shop_price</th>\n",
       "      <th>promote_price</th>\n",
       "      <th>promote_start_time</th>\n",
       "      <th>promote_end_time</th>\n",
       "      <th>start_time</th>\n",
       "      <th>end_time</th>\n",
       "    </tr>\n",
       "  </thead>\n",
       "  <tbody>\n",
       "    <tr>\n",
       "      <th>count</th>\n",
       "      <td>2.401643e+07</td>\n",
       "      <td>24016430</td>\n",
       "      <td>2.401643e+07</td>\n",
       "      <td>2.401643e+07</td>\n",
       "      <td>24016430</td>\n",
       "      <td>24016430</td>\n",
       "      <td>2.401643e+07</td>\n",
       "      <td>2.401643e+07</td>\n",
       "    </tr>\n",
       "    <tr>\n",
       "      <th>unique</th>\n",
       "      <td>NaN</td>\n",
       "      <td>423453</td>\n",
       "      <td>NaN</td>\n",
       "      <td>NaN</td>\n",
       "      <td>955</td>\n",
       "      <td>1008</td>\n",
       "      <td>NaN</td>\n",
       "      <td>NaN</td>\n",
       "    </tr>\n",
       "    <tr>\n",
       "      <th>top</th>\n",
       "      <td>NaN</td>\n",
       "      <td>GsCi2g</td>\n",
       "      <td>NaN</td>\n",
       "      <td>NaN</td>\n",
       "      <td>1970-01-01 08:00:00</td>\n",
       "      <td>1970-01-01 08:00:00</td>\n",
       "      <td>NaN</td>\n",
       "      <td>NaN</td>\n",
       "    </tr>\n",
       "    <tr>\n",
       "      <th>freq</th>\n",
       "      <td>NaN</td>\n",
       "      <td>60</td>\n",
       "      <td>NaN</td>\n",
       "      <td>NaN</td>\n",
       "      <td>15273827</td>\n",
       "      <td>15272969</td>\n",
       "      <td>NaN</td>\n",
       "      <td>NaN</td>\n",
       "    </tr>\n",
       "    <tr>\n",
       "      <th>mean</th>\n",
       "      <td>2.018022e+07</td>\n",
       "      <td>NaN</td>\n",
       "      <td>3.837252e+01</td>\n",
       "      <td>7.274269e+00</td>\n",
       "      <td>NaN</td>\n",
       "      <td>NaN</td>\n",
       "      <td>1.987316e+07</td>\n",
       "      <td>1.987458e+07</td>\n",
       "    </tr>\n",
       "    <tr>\n",
       "      <th>std</th>\n",
       "      <td>6.789219e+01</td>\n",
       "      <td>NaN</td>\n",
       "      <td>5.922209e+01</td>\n",
       "      <td>1.518260e+01</td>\n",
       "      <td>NaN</td>\n",
       "      <td>NaN</td>\n",
       "      <td>2.287823e+05</td>\n",
       "      <td>2.306283e+05</td>\n",
       "    </tr>\n",
       "    <tr>\n",
       "      <th>min</th>\n",
       "      <td>2.018012e+07</td>\n",
       "      <td>NaN</td>\n",
       "      <td>0.000000e+00</td>\n",
       "      <td>0.000000e+00</td>\n",
       "      <td>NaN</td>\n",
       "      <td>NaN</td>\n",
       "      <td>1.970010e+07</td>\n",
       "      <td>1.970010e+07</td>\n",
       "    </tr>\n",
       "    <tr>\n",
       "      <th>25%</th>\n",
       "      <td>2.018013e+07</td>\n",
       "      <td>NaN</td>\n",
       "      <td>1.899000e+01</td>\n",
       "      <td>0.000000e+00</td>\n",
       "      <td>NaN</td>\n",
       "      <td>NaN</td>\n",
       "      <td>1.970010e+07</td>\n",
       "      <td>1.970010e+07</td>\n",
       "    </tr>\n",
       "    <tr>\n",
       "      <th>50%</th>\n",
       "      <td>2.018022e+07</td>\n",
       "      <td>NaN</td>\n",
       "      <td>2.999000e+01</td>\n",
       "      <td>0.000000e+00</td>\n",
       "      <td>NaN</td>\n",
       "      <td>NaN</td>\n",
       "      <td>1.970010e+07</td>\n",
       "      <td>1.970010e+07</td>\n",
       "    </tr>\n",
       "    <tr>\n",
       "      <th>75%</th>\n",
       "      <td>2.018030e+07</td>\n",
       "      <td>NaN</td>\n",
       "      <td>4.299000e+01</td>\n",
       "      <td>1.199000e+01</td>\n",
       "      <td>NaN</td>\n",
       "      <td>NaN</td>\n",
       "      <td>2.017122e+07</td>\n",
       "      <td>2.018021e+07</td>\n",
       "    </tr>\n",
       "    <tr>\n",
       "      <th>max</th>\n",
       "      <td>2.018032e+07</td>\n",
       "      <td>NaN</td>\n",
       "      <td>1.787700e+04</td>\n",
       "      <td>1.500000e+03</td>\n",
       "      <td>NaN</td>\n",
       "      <td>NaN</td>\n",
       "      <td>2.018032e+07</td>\n",
       "      <td>2.020123e+07</td>\n",
       "    </tr>\n",
       "  </tbody>\n",
       "</table>\n",
       "</div>"
      ],
      "text/plain": [
       "           data_date  goods_id    shop_price  promote_price  \\\n",
       "count   2.401643e+07  24016430  2.401643e+07   2.401643e+07   \n",
       "unique           NaN    423453           NaN            NaN   \n",
       "top              NaN    GsCi2g           NaN            NaN   \n",
       "freq             NaN        60           NaN            NaN   \n",
       "mean    2.018022e+07       NaN  3.837252e+01   7.274269e+00   \n",
       "std     6.789219e+01       NaN  5.922209e+01   1.518260e+01   \n",
       "min     2.018012e+07       NaN  0.000000e+00   0.000000e+00   \n",
       "25%     2.018013e+07       NaN  1.899000e+01   0.000000e+00   \n",
       "50%     2.018022e+07       NaN  2.999000e+01   0.000000e+00   \n",
       "75%     2.018030e+07       NaN  4.299000e+01   1.199000e+01   \n",
       "max     2.018032e+07       NaN  1.787700e+04   1.500000e+03   \n",
       "\n",
       "         promote_start_time     promote_end_time    start_time      end_time  \n",
       "count              24016430             24016430  2.401643e+07  2.401643e+07  \n",
       "unique                  955                 1008           NaN           NaN  \n",
       "top     1970-01-01 08:00:00  1970-01-01 08:00:00           NaN           NaN  \n",
       "freq               15273827             15272969           NaN           NaN  \n",
       "mean                    NaN                  NaN  1.987316e+07  1.987458e+07  \n",
       "std                     NaN                  NaN  2.287823e+05  2.306283e+05  \n",
       "min                     NaN                  NaN  1.970010e+07  1.970010e+07  \n",
       "25%                     NaN                  NaN  1.970010e+07  1.970010e+07  \n",
       "50%                     NaN                  NaN  1.970010e+07  1.970010e+07  \n",
       "75%                     NaN                  NaN  2.017122e+07  2.018021e+07  \n",
       "max                     NaN                  NaN  2.018032e+07  2.020123e+07  "
      ]
     },
     "execution_count": 21,
     "metadata": {},
     "output_type": "execute_result"
    }
   ],
   "source": [
    "%%time\n",
    "goods_promote_price.describe(include='all')"
   ]
  },
  {
   "cell_type": "code",
   "execution_count": 22,
   "metadata": {
    "ExecuteTime": {
     "end_time": "2018-10-12T10:17:18.318250Z",
     "start_time": "2018-10-12T10:17:16.886979Z"
    }
   },
   "outputs": [
    {
     "name": "stdout",
     "output_type": "stream",
     "text": [
      "<class 'pandas.core.frame.DataFrame'>\n",
      "RangeIndex: 24016430 entries, 0 to 24016429\n",
      "Data columns (total 8 columns):\n",
      "data_date             int64\n",
      "goods_id              object\n",
      "shop_price            float64\n",
      "promote_price         float64\n",
      "promote_start_time    object\n",
      "promote_end_time      object\n",
      "start_time            int64\n",
      "end_time              int64\n",
      "dtypes: float64(2), int64(3), object(3)\n",
      "memory usage: 1.4+ GB\n"
     ]
    }
   ],
   "source": [
    "goods_promote_price.info()"
   ]
  },
  {
   "cell_type": "code",
   "execution_count": 23,
   "metadata": {
    "ExecuteTime": {
     "end_time": "2018-10-12T10:17:18.463072Z",
     "start_time": "2018-10-12T10:17:18.321144Z"
    }
   },
   "outputs": [
    {
     "data": {
      "text/html": [
       "<div>\n",
       "<style scoped>\n",
       "    .dataframe tbody tr th:only-of-type {\n",
       "        vertical-align: middle;\n",
       "    }\n",
       "\n",
       "    .dataframe tbody tr th {\n",
       "        vertical-align: top;\n",
       "    }\n",
       "\n",
       "    .dataframe thead th {\n",
       "        text-align: right;\n",
       "    }\n",
       "</style>\n",
       "<table border=\"1\" class=\"dataframe\">\n",
       "  <thead>\n",
       "    <tr style=\"text-align: right;\">\n",
       "      <th></th>\n",
       "      <th>data_date</th>\n",
       "      <th>goods_id</th>\n",
       "      <th>shop_price</th>\n",
       "      <th>promote_price</th>\n",
       "      <th>promote_start_time</th>\n",
       "      <th>promote_end_time</th>\n",
       "      <th>start_time</th>\n",
       "      <th>end_time</th>\n",
       "    </tr>\n",
       "  </thead>\n",
       "  <tbody>\n",
       "  </tbody>\n",
       "</table>\n",
       "</div>"
      ],
      "text/plain": [
       "Empty DataFrame\n",
       "Columns: [data_date, goods_id, shop_price, promote_price, promote_start_time, promote_end_time, start_time, end_time]\n",
       "Index: []"
      ]
     },
     "execution_count": 23,
     "metadata": {},
     "output_type": "execute_result"
    }
   ],
   "source": [
    "# 看有没有错误促销\n",
    "goods_promote_price[goods_promote_price['shop_price'] < goods_promote_price['promote_price']]"
   ]
  },
  {
   "cell_type": "markdown",
   "metadata": {},
   "source": [
    "不存在 标价<促销价, 还行"
   ]
  },
  {
   "cell_type": "code",
   "execution_count": 24,
   "metadata": {
    "ExecuteTime": {
     "end_time": "2018-10-12T10:17:21.491044Z",
     "start_time": "2018-10-12T10:17:18.465190Z"
    }
   },
   "outputs": [
    {
     "name": "stdout",
     "output_type": "stream",
     "text": [
      "CPU times: user 1.54 s, sys: 1.13 s, total: 2.68 s\n",
      "Wall time: 3.02 s\n"
     ]
    }
   ],
   "source": [
    "%%time\n",
    "if 'is_promoted' not in goods_promote_price.columns:\n",
    "    # 加 is_promoted 列 表示是否为促销产品\n",
    "    goods_promote_price['is_promoted'] = 0\n",
    "    is_promoted = (goods_promote_price['promote_price'] > .0) & \\\n",
    "        (goods_promote_price['start_time'] < goods_promote_price['data_date']) & \\\n",
    "        (goods_promote_price['end_time'] > goods_promote_price['data_date'])\n",
    "\n",
    "    goods_promote_price.loc[is_promoted, 'is_promoted'] = 1"
   ]
  },
  {
   "cell_type": "code",
   "execution_count": 25,
   "metadata": {
    "ExecuteTime": {
     "end_time": "2018-10-12T10:17:21.513254Z",
     "start_time": "2018-10-12T10:17:21.492995Z"
    }
   },
   "outputs": [
    {
     "data": {
      "text/html": [
       "<div>\n",
       "<style scoped>\n",
       "    .dataframe tbody tr th:only-of-type {\n",
       "        vertical-align: middle;\n",
       "    }\n",
       "\n",
       "    .dataframe tbody tr th {\n",
       "        vertical-align: top;\n",
       "    }\n",
       "\n",
       "    .dataframe thead th {\n",
       "        text-align: right;\n",
       "    }\n",
       "</style>\n",
       "<table border=\"1\" class=\"dataframe\">\n",
       "  <thead>\n",
       "    <tr style=\"text-align: right;\">\n",
       "      <th></th>\n",
       "      <th>data_date</th>\n",
       "      <th>goods_id</th>\n",
       "      <th>shop_price</th>\n",
       "      <th>promote_price</th>\n",
       "      <th>promote_start_time</th>\n",
       "      <th>promote_end_time</th>\n",
       "      <th>start_time</th>\n",
       "      <th>end_time</th>\n",
       "      <th>is_promoted</th>\n",
       "    </tr>\n",
       "  </thead>\n",
       "  <tbody>\n",
       "    <tr>\n",
       "      <th>0</th>\n",
       "      <td>20180129</td>\n",
       "      <td>GBLrYn</td>\n",
       "      <td>289.00</td>\n",
       "      <td>0.0</td>\n",
       "      <td>1970-01-01 08:00:00</td>\n",
       "      <td>1970-01-01 08:00:00</td>\n",
       "      <td>19700101</td>\n",
       "      <td>19700101</td>\n",
       "      <td>0</td>\n",
       "    </tr>\n",
       "    <tr>\n",
       "      <th>1</th>\n",
       "      <td>20180129</td>\n",
       "      <td>GfrkEb</td>\n",
       "      <td>17.99</td>\n",
       "      <td>0.0</td>\n",
       "      <td>1970-01-01 08:00:00</td>\n",
       "      <td>1970-01-01 08:00:00</td>\n",
       "      <td>19700101</td>\n",
       "      <td>19700101</td>\n",
       "      <td>0</td>\n",
       "    </tr>\n",
       "    <tr>\n",
       "      <th>2</th>\n",
       "      <td>20180129</td>\n",
       "      <td>GD8pMl</td>\n",
       "      <td>412.00</td>\n",
       "      <td>0.0</td>\n",
       "      <td>1970-01-01 08:00:00</td>\n",
       "      <td>1970-01-01 08:00:00</td>\n",
       "      <td>19700101</td>\n",
       "      <td>19700101</td>\n",
       "      <td>0</td>\n",
       "    </tr>\n",
       "    <tr>\n",
       "      <th>3</th>\n",
       "      <td>20180129</td>\n",
       "      <td>Gfid4P</td>\n",
       "      <td>87.00</td>\n",
       "      <td>0.0</td>\n",
       "      <td>1970-01-01 08:00:00</td>\n",
       "      <td>1970-01-01 08:00:00</td>\n",
       "      <td>19700101</td>\n",
       "      <td>19700101</td>\n",
       "      <td>0</td>\n",
       "    </tr>\n",
       "    <tr>\n",
       "      <th>4</th>\n",
       "      <td>20180129</td>\n",
       "      <td>Gzjk0i</td>\n",
       "      <td>43.99</td>\n",
       "      <td>0.0</td>\n",
       "      <td>1970-01-01 08:00:00</td>\n",
       "      <td>1970-01-01 08:00:00</td>\n",
       "      <td>19700101</td>\n",
       "      <td>19700101</td>\n",
       "      <td>0</td>\n",
       "    </tr>\n",
       "  </tbody>\n",
       "</table>\n",
       "</div>"
      ],
      "text/plain": [
       "   data_date goods_id  shop_price  promote_price   promote_start_time  \\\n",
       "0   20180129   GBLrYn      289.00            0.0  1970-01-01 08:00:00   \n",
       "1   20180129   GfrkEb       17.99            0.0  1970-01-01 08:00:00   \n",
       "2   20180129   GD8pMl      412.00            0.0  1970-01-01 08:00:00   \n",
       "3   20180129   Gfid4P       87.00            0.0  1970-01-01 08:00:00   \n",
       "4   20180129   Gzjk0i       43.99            0.0  1970-01-01 08:00:00   \n",
       "\n",
       "      promote_end_time  start_time  end_time  is_promoted  \n",
       "0  1970-01-01 08:00:00    19700101  19700101            0  \n",
       "1  1970-01-01 08:00:00    19700101  19700101            0  \n",
       "2  1970-01-01 08:00:00    19700101  19700101            0  \n",
       "3  1970-01-01 08:00:00    19700101  19700101            0  \n",
       "4  1970-01-01 08:00:00    19700101  19700101            0  "
      ]
     },
     "execution_count": 25,
     "metadata": {},
     "output_type": "execute_result"
    }
   ],
   "source": [
    "goods_promote_price.head()"
   ]
  },
  {
   "cell_type": "markdown",
   "metadata": {},
   "source": [
    "现在用 goods_promote_price 这个表给 goods_id + data_date 查询就可以用 is_promoted 判断某个商品在某天是不是促销"
   ]
  },
  {
   "cell_type": "markdown",
   "metadata": {},
   "source": [
    "### marketing: 平台活动时间表\n",
    "活动类型, 节奏类型"
   ]
  },
  {
   "cell_type": "code",
   "execution_count": null,
   "metadata": {},
   "outputs": [],
   "source": []
  }
 ],
 "metadata": {
  "kernelspec": {
   "display_name": "Python 3",
   "language": "python",
   "name": "python3"
  },
  "language_info": {
   "codemirror_mode": {
    "name": "ipython",
    "version": 3
   },
   "file_extension": ".py",
   "mimetype": "text/x-python",
   "name": "python",
   "nbconvert_exporter": "python",
   "pygments_lexer": "ipython3",
   "version": "3.6.6"
  },
  "toc": {
   "base_numbering": 1,
   "nav_menu": {},
   "number_sections": true,
   "sideBar": true,
   "skip_h1_title": false,
   "title_cell": "Table of Contents",
   "title_sidebar": "Contents",
   "toc_cell": false,
   "toc_position": {
    "height": "calc(100% - 180px)",
    "left": "10px",
    "top": "150px",
    "width": "337px"
   },
   "toc_section_display": true,
   "toc_window_display": true
  },
  "varInspector": {
   "cols": {
    "lenName": 16,
    "lenType": 16,
    "lenVar": 40
   },
   "kernels_config": {
    "python": {
     "delete_cmd_postfix": "",
     "delete_cmd_prefix": "del ",
     "library": "var_list.py",
     "varRefreshCmd": "print(var_dic_list())"
    },
    "r": {
     "delete_cmd_postfix": ") ",
     "delete_cmd_prefix": "rm(",
     "library": "var_list.r",
     "varRefreshCmd": "cat(var_dic_list()) "
    }
   },
   "position": {
    "height": "768px",
    "left": "1520px",
    "right": "20px",
    "top": "70px",
    "width": "397px"
   },
   "types_to_exclude": [
    "module",
    "function",
    "builtin_function_or_method",
    "instance",
    "_Feature"
   ],
   "window_display": true
  }
 },
 "nbformat": 4,
 "nbformat_minor": 1
}
